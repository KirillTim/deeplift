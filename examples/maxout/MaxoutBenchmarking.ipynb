{
 "cells": [
  {
   "cell_type": "code",
   "execution_count": 8,
   "metadata": {
    "collapsed": false
   },
   "outputs": [],
   "source": [
    "import deeplift\n",
    "import sys, os\n",
    "scriptsDir = os.environ.get(\"KERAS_DIR\");                                       \n",
    "if (scriptsDir is None):                                                        \n",
    "    raise Exception(\"Please set environment variable KERAS_DIR to point to deeplearning repo\");\n",
    "sys.path.insert(0,scriptsDir);\n",
    "import keras\n",
    "from keras.models import model_from_yaml\n",
    "\n",
    "model = model_from_yaml(open(\"modelsDir_runs/record_0_model_i4fMH_modelYaml.yaml\").read())\n",
    "model.load_weights(\"modelsDir_runs/record_0_model_i4fMH_modelWeights.h5\")"
   ]
  },
  {
   "cell_type": "code",
   "execution_count": 9,
   "metadata": {
    "collapsed": false
   },
   "outputs": [
    {
     "name": "stdout",
     "output_type": "stream",
     "text": [
      "(0, 'rows skipped from', 'features.gz')\n",
      "Returning desired dict\n",
      "Making numpy arrays out of the loaded files\n",
      "('train', 'shapeX', (80000, 2))\n",
      "('train', 'shapeY', (80000, 1))\n",
      "('valid', 'shapeX', (10000, 2))\n",
      "('valid', 'shapeY', (10000, 1))\n",
      "('test', 'shapeX', (10000, 2))\n",
      "('test', 'shapeY', (10000, 1))\n"
     ]
    }
   ],
   "source": [
    "scriptsDir = os.environ.get(\"UTIL_SCRIPTS_DIR\");\n",
    "if (scriptsDir is None):\n",
    "    raise Exception(\"Please set environment variable UTIL_SCRIPTS_DIR to point to the deeplift code\");\n",
    "sys.path.insert(0,scriptsDir);\n",
    "from importDataPackage import importData\n",
    "trainData, validData, testData = importData.loadTrainTestValidFromYaml(\"yaml/features.yaml\",\n",
    "                                                                       \"yaml/labels.yaml\",\n",
    "                                                                       \"yaml/splits.yaml\")"
   ]
  },
  {
   "cell_type": "code",
   "execution_count": 10,
   "metadata": {
    "collapsed": false
   },
   "outputs": [
    {
     "data": {
      "text/plain": [
       "[array([[[ -1.10324550e+00],\n",
       "         [  4.67225276e-02]],\n",
       " \n",
       "        [[ -3.18271732e+00],\n",
       "         [  2.00881809e-02]],\n",
       " \n",
       "        [[  2.65948105e+00],\n",
       "         [ -2.66333723e+00]],\n",
       " \n",
       "        [[ -2.65702462e+00],\n",
       "         [  2.67485046e+00]],\n",
       " \n",
       "        [[  2.65231419e+00],\n",
       "         [  2.66446018e+00]],\n",
       " \n",
       "        [[  1.15762377e+00],\n",
       "         [  1.29820837e-03]],\n",
       " \n",
       "        [[ -2.83885859e-02],\n",
       "         [ -2.68582249e+00]],\n",
       " \n",
       "        [[  3.21576929e+00],\n",
       "         [  1.74058396e-02]],\n",
       " \n",
       "        [[ -2.66091681e+00],\n",
       "         [ -2.66848087e+00]],\n",
       " \n",
       "        [[  3.62684531e-03],\n",
       "         [  2.71813583e+00]]], dtype=float32), array([[-0.04971155],\n",
       "        [-2.32095981],\n",
       "        [-3.23612142],\n",
       "        [-3.2635138 ],\n",
       "        [-3.25123096],\n",
       "        [-0.08200027],\n",
       "        [-1.51762187],\n",
       "        [-2.37534022],\n",
       "        [-3.25674224],\n",
       "        [-1.56303227]], dtype=float32)]"
      ]
     },
     "execution_count": 10,
     "metadata": {},
     "output_type": "execute_result"
    }
   ],
   "source": [
    "model.layers[0].get_weights()"
   ]
  },
  {
   "cell_type": "code",
   "execution_count": 11,
   "metadata": {
    "collapsed": false
   },
   "outputs": [],
   "source": [
    "import deeplift.blobs as blobs\n",
    "input_layer = blobs.Input_FixedDefault(default=0.0, num_dims=None, shape=(None, 2))\n",
    "dense_nodes = []\n",
    "feature_weights = model.layers[0].get_weights()[0]\n",
    "feature_biases = model.layers[0].get_weights()[1]\n",
    "for i in range(len(feature_weights)):\n",
    "    dense_nodes.append(blobs.Dense(W=feature_weights[i], b=feature_biases[i]))\n",
    "    dense_nodes[-1].set_inputs(input_layer)\n",
    "merge_layer = blobs.MaxMerge(axis=1, temp=1.0)\n",
    "merge_layer.set_inputs(dense_nodes)\n",
    "merge_layer.build_fwd_pass_vars()\n",
    "merge_layer.set_scoring_mode(blobs.ScoringMode.OneAndZeros)\n",
    "merge_layer.set_active()\n",
    "input_layer.update_mxts()"
   ]
  },
  {
   "cell_type": "code",
   "execution_count": 20,
   "metadata": {
    "collapsed": false
   },
   "outputs": [],
   "source": []
  },
  {
   "cell_type": "code",
   "execution_count": 12,
   "metadata": {
    "collapsed": false
   },
   "outputs": [],
   "source": [
    "import theano\n",
    "keras_fprop = theano.function([model.layers[0].input], model.layers[-1].get_output(train=False), allow_input_downcast=True)"
   ]
  },
  {
   "cell_type": "code",
   "execution_count": 13,
   "metadata": {
    "collapsed": true
   },
   "outputs": [],
   "source": [
    "deeplift_fprop = theano.function([input_layer.get_activation_vars()], merge_layer.get_activation_vars(), allow_input_downcast=True)"
   ]
  },
  {
   "cell_type": "code",
   "execution_count": 21,
   "metadata": {
    "collapsed": true
   },
   "outputs": [],
   "source": [
    "deeplift_fprop2 = theano.function([input_layer2.get_activation_vars()], maxout_layer.get_activation_vars(), allow_input_downcast=True)"
   ]
  },
  {
   "cell_type": "code",
   "execution_count": 22,
   "metadata": {
    "collapsed": false,
    "scrolled": false
   },
   "outputs": [
    {
     "name": "stdout",
     "output_type": "stream",
     "text": [
      "9.53674e-07\n",
      "0.0\n"
     ]
    }
   ],
   "source": [
    "import numpy as np\n",
    "print(np.max(np.abs(np.array(keras_fprop(validData.X))-np.array(deeplift_fprop(validData.X)))))\n",
    "print(np.max(np.abs(np.array(keras_fprop(validData.X))-np.array(deeplift_fprop2(validData.X)))))"
   ]
  },
  {
   "cell_type": "code",
   "execution_count": 23,
   "metadata": {
    "collapsed": false
   },
   "outputs": [],
   "source": [
    "deeplift_contribs_func = theano.function([input_layer.get_activation_vars()], input_layer.get_target_contrib_vars(), allow_input_downcast=True)"
   ]
  },
  {
   "cell_type": "code",
   "execution_count": 16,
   "metadata": {
    "collapsed": true
   },
   "outputs": [],
   "source": [
    "grad_times_inp_func = theano.function([model.layers[0].input], theano.grad(theano.tensor.sum(model.layers[-1].get_output(train=False)[:,0]),\n",
    "                                                                      model.layers[0].input)*model.layers[0].input, allow_input_downcast=True)"
   ]
  },
  {
   "cell_type": "code",
   "execution_count": 24,
   "metadata": {
    "collapsed": false
   },
   "outputs": [],
   "source": [
    "true_contribs = np.square(validData.X)\n",
    "deeplift_contribs = deeplift_contribs_func(validData.X)\n",
    "grad_times_inp = grad_times_inp_func(validData.X)"
   ]
  },
  {
   "cell_type": "code",
   "execution_count": 28,
   "metadata": {
    "collapsed": false
   },
   "outputs": [
    {
     "name": "stdout",
     "output_type": "stream",
     "text": [
      "[[ nan  nan]\n",
      " [ nan  nan]\n",
      " [ nan  nan]\n",
      " ..., \n",
      " [ nan  nan]\n",
      " [ nan  nan]\n",
      " [ nan  nan]]\n"
     ]
    }
   ],
   "source": [
    "deeplift_contribs_func2 = theano.function([input_layer2.get_activation_vars()], input_layer2.get_mxts(), allow_input_downcast=True)\n",
    "deeplift_contribs2 = deeplift_contribs_func2(validData.X)\n",
    "print(deeplift_contribs2)"
   ]
  },
  {
   "cell_type": "code",
   "execution_count": 37,
   "metadata": {
    "collapsed": false
   },
   "outputs": [
    {
     "name": "stdout",
     "output_type": "stream",
     "text": [
      "[[[[0]\n",
      "   [0]\n",
      "   [1]\n",
      "   ..., \n",
      "   [1]\n",
      "   [1]\n",
      "   [0]]\n",
      "\n",
      "  [[1]\n",
      "   [0]\n",
      "   [1]\n",
      "   ..., \n",
      "   [1]\n",
      "   [1]\n",
      "   [1]]\n",
      "\n",
      "  [[0]\n",
      "   [0]\n",
      "   [0]\n",
      "   ..., \n",
      "   [0]\n",
      "   [0]\n",
      "   [0]]\n",
      "\n",
      "  ..., \n",
      "  [[0]\n",
      "   [0]\n",
      "   [1]\n",
      "   ..., \n",
      "   [0]\n",
      "   [0]\n",
      "   [0]]\n",
      "\n",
      "  [[0]\n",
      "   [0]\n",
      "   [1]\n",
      "   ..., \n",
      "   [1]\n",
      "   [0]\n",
      "   [0]]\n",
      "\n",
      "  [[1]\n",
      "   [0]\n",
      "   [1]\n",
      "   ..., \n",
      "   [1]\n",
      "   [1]\n",
      "   [0]]]\n",
      "\n",
      "\n",
      " [[[0]\n",
      "   [0]\n",
      "   [0]\n",
      "   ..., \n",
      "   [1]\n",
      "   [0]\n",
      "   [1]]\n",
      "\n",
      "  [[1]\n",
      "   [0]\n",
      "   [1]\n",
      "   ..., \n",
      "   [1]\n",
      "   [0]\n",
      "   [1]]\n",
      "\n",
      "  [[1]\n",
      "   [0]\n",
      "   [0]\n",
      "   ..., \n",
      "   [1]\n",
      "   [0]\n",
      "   [1]]\n",
      "\n",
      "  ..., \n",
      "  [[0]\n",
      "   [0]\n",
      "   [0]\n",
      "   ..., \n",
      "   [0]\n",
      "   [0]\n",
      "   [1]]\n",
      "\n",
      "  [[1]\n",
      "   [1]\n",
      "   [1]\n",
      "   ..., \n",
      "   [1]\n",
      "   [0]\n",
      "   [1]]\n",
      "\n",
      "  [[0]\n",
      "   [0]\n",
      "   [0]\n",
      "   ..., \n",
      "   [0]\n",
      "   [0]\n",
      "   [0]]]\n",
      "\n",
      "\n",
      " [[[0]\n",
      "   [1]\n",
      "   [0]\n",
      "   ..., \n",
      "   [0]\n",
      "   [1]\n",
      "   [0]]\n",
      "\n",
      "  [[0]\n",
      "   [0]\n",
      "   [0]\n",
      "   ..., \n",
      "   [0]\n",
      "   [0]\n",
      "   [0]]\n",
      "\n",
      "  [[1]\n",
      "   [1]\n",
      "   [0]\n",
      "   ..., \n",
      "   [1]\n",
      "   [1]\n",
      "   [1]]\n",
      "\n",
      "  ..., \n",
      "  [[1]\n",
      "   [1]\n",
      "   [0]\n",
      "   ..., \n",
      "   [0]\n",
      "   [1]\n",
      "   [1]]\n",
      "\n",
      "  [[0]\n",
      "   [1]\n",
      "   [0]\n",
      "   ..., \n",
      "   [0]\n",
      "   [0]\n",
      "   [0]]\n",
      "\n",
      "  [[1]\n",
      "   [1]\n",
      "   [0]\n",
      "   ..., \n",
      "   [0]\n",
      "   [1]\n",
      "   [0]]]\n",
      "\n",
      "\n",
      " ..., \n",
      " [[[0]\n",
      "   [0]\n",
      "   [0]\n",
      "   ..., \n",
      "   [1]\n",
      "   [0]\n",
      "   [1]]\n",
      "\n",
      "  [[1]\n",
      "   [0]\n",
      "   [1]\n",
      "   ..., \n",
      "   [1]\n",
      "   [0]\n",
      "   [1]]\n",
      "\n",
      "  [[1]\n",
      "   [0]\n",
      "   [0]\n",
      "   ..., \n",
      "   [1]\n",
      "   [0]\n",
      "   [1]]\n",
      "\n",
      "  ..., \n",
      "  [[0]\n",
      "   [0]\n",
      "   [0]\n",
      "   ..., \n",
      "   [0]\n",
      "   [0]\n",
      "   [1]]\n",
      "\n",
      "  [[1]\n",
      "   [1]\n",
      "   [1]\n",
      "   ..., \n",
      "   [1]\n",
      "   [0]\n",
      "   [1]]\n",
      "\n",
      "  [[0]\n",
      "   [0]\n",
      "   [0]\n",
      "   ..., \n",
      "   [0]\n",
      "   [0]\n",
      "   [0]]]\n",
      "\n",
      "\n",
      " [[[0]\n",
      "   [0]\n",
      "   [1]\n",
      "   ..., \n",
      "   [1]\n",
      "   [0]\n",
      "   [1]]\n",
      "\n",
      "  [[1]\n",
      "   [0]\n",
      "   [1]\n",
      "   ..., \n",
      "   [1]\n",
      "   [0]\n",
      "   [1]]\n",
      "\n",
      "  [[0]\n",
      "   [0]\n",
      "   [0]\n",
      "   ..., \n",
      "   [1]\n",
      "   [0]\n",
      "   [1]]\n",
      "\n",
      "  ..., \n",
      "  [[0]\n",
      "   [0]\n",
      "   [0]\n",
      "   ..., \n",
      "   [0]\n",
      "   [0]\n",
      "   [0]]\n",
      "\n",
      "  [[1]\n",
      "   [1]\n",
      "   [1]\n",
      "   ..., \n",
      "   [1]\n",
      "   [0]\n",
      "   [1]]\n",
      "\n",
      "  [[0]\n",
      "   [0]\n",
      "   [0]\n",
      "   ..., \n",
      "   [1]\n",
      "   [0]\n",
      "   [0]]]\n",
      "\n",
      "\n",
      " [[[0]\n",
      "   [0]\n",
      "   [1]\n",
      "   ..., \n",
      "   [1]\n",
      "   [1]\n",
      "   [0]]\n",
      "\n",
      "  [[1]\n",
      "   [0]\n",
      "   [1]\n",
      "   ..., \n",
      "   [1]\n",
      "   [1]\n",
      "   [0]]\n",
      "\n",
      "  [[0]\n",
      "   [0]\n",
      "   [0]\n",
      "   ..., \n",
      "   [0]\n",
      "   [0]\n",
      "   [0]]\n",
      "\n",
      "  ..., \n",
      "  [[0]\n",
      "   [0]\n",
      "   [1]\n",
      "   ..., \n",
      "   [0]\n",
      "   [0]\n",
      "   [0]]\n",
      "\n",
      "  [[0]\n",
      "   [0]\n",
      "   [1]\n",
      "   ..., \n",
      "   [1]\n",
      "   [0]\n",
      "   [0]]\n",
      "\n",
      "  [[1]\n",
      "   [1]\n",
      "   [1]\n",
      "   ..., \n",
      "   [1]\n",
      "   [1]\n",
      "   [0]]]]\n"
     ]
    }
   ],
   "source": [
    "import deeplift.blobs as blobs\n",
    "reload(blobs.maxout)\n",
    "reload(blobs)\n",
    "input_layer2 = blobs.Input_FixedDefault(default=0.0, num_dims=None, shape=(None, 2))\n",
    "maxout_layer = blobs.Maxout(W=model.layers[0].get_weights()[0], b=model.layers[0].get_weights()[1])\n",
    "maxout_layer.set_inputs(input_layer2)\n",
    "maxout_layer.build_fwd_pass_vars()\n",
    "maxout_layer.set_scoring_mode(blobs.ScoringMode.OneAndZeros)\n",
    "maxout_layer.set_active()\n",
    "input_layer2.update_mxts()\n",
    "\n",
    "debug_func = theano.function([input_layer2.get_activation_vars()], maxout_layer._debug_negative_change_vec_mask, allow_input_downcast=True)\n",
    "debug_vals = debug_func(validData.X)\n",
    "print(debug_vals)"
   ]
  },
  {
   "cell_type": "code",
   "execution_count": 25,
   "metadata": {
    "collapsed": false
   },
   "outputs": [
    {
     "name": "stdout",
     "output_type": "stream",
     "text": [
      "0.350772899701\n",
      "nan\n",
      "6.6837174972\n"
     ]
    }
   ],
   "source": [
    "print(np.max(np.square(true_contribs-deeplift_contribs)))\n",
    "print(np.max(np.square(true_contribs-deeplift_contribs2)))\n",
    "print(np.max(np.square(true_contribs-grad_times_inp)))"
   ]
  },
  {
   "cell_type": "code",
   "execution_count": null,
   "metadata": {
    "collapsed": true
   },
   "outputs": [],
   "source": []
  }
 ],
 "metadata": {
  "kernelspec": {
   "display_name": "Python 2",
   "language": "python",
   "name": "python2"
  },
  "language_info": {
   "codemirror_mode": {
    "name": "ipython",
    "version": 2
   },
   "file_extension": ".py",
   "mimetype": "text/x-python",
   "name": "python",
   "nbconvert_exporter": "python",
   "pygments_lexer": "ipython2",
   "version": "2.7.11"
  }
 },
 "nbformat": 4,
 "nbformat_minor": 0
}
