{
 "cells": [
  {
   "cell_type": "code",
   "execution_count": 1,
   "metadata": {
    "collapsed": false
   },
   "outputs": [
    {
     "name": "stderr",
     "output_type": "stream",
     "text": [
      "Using gpu device 0: GeForce GT 750M (CNMeM is disabled, CuDNN not available)\n",
      "/Users/avantishrikumar/anaconda/lib/python2.7/site-packages/theano/tensor/signal/downsample.py:5: UserWarning: downsample module has been moved to the pool module.\n",
      "  warnings.warn(\"downsample module has been moved to the pool module.\")\n"
     ]
    }
   ],
   "source": [
    "%matplotlib inline\n",
    "from __future__ import division;\n",
    "from __future__ import print_function;\n",
    "from __future__ import absolute_import;\n",
    "import sys, os;\n",
    "from collections import OrderedDict, namedtuple;\n",
    "import numpy as np;\n",
    "\n",
    "#import deepLIFT stuff\n",
    "scriptsDir = os.environ.get(\"DEEPLIFT_DIR\");\n",
    "if (scriptsDir is None):\n",
    "    raise Exception(\"Please set environment variable DEEPLIFT_DIR to point to the deeplift code (WITHIN the deeplift repo)\");\n",
    "sys.path.insert(0,scriptsDir);\n",
    "#Make sure the directory is set to import the lab's version of keras\n",
    "scriptsDir = os.environ.get(\"KERAS_DIR\");\n",
    "if (scriptsDir is None):\n",
    "    raise Exception(\"Please set environment variable KERAS_DIR\");\n",
    "sys.path.insert(0,scriptsDir)\n",
    "\n",
    "import keras_conversion as kc"
   ]
  },
  {
   "cell_type": "code",
   "execution_count": 3,
   "metadata": {
    "collapsed": false
   },
   "outputs": [],
   "source": [
    "reload(kc)\n",
    "model_weights  = \"mar31_diff_and_present_peaks_datasetLeuk_75M_logpval5_diffmethoddeseq_top400000_peaksize1000_jitter50_noGCmatch_softmaxDiffTasks_CustomModel_GraphSoftmax_currentBest_epoch_5_modelWeights.h5\"\n",
    "model_yaml = \"mar31_diff_and_present_peaks_datasetLeuk_75M_logpval5_diffmethoddeseq_top400000_peaksize1000_jitter50_noGCmatch_softmaxDiffTasks_CustomModel_GraphSoftmax_currentBest_epoch_5_modelYaml.yaml\"\n",
    "keras_model = kc.load_keras_model(model_weights, model_yaml,\n",
    "                                  normalise_conv_for_one_hot_encoded_input=True,\n",
    "                                  name_of_conv_layer_to_normalise=\"conv1\")"
   ]
  },
  {
   "cell_type": "code",
   "execution_count": 34,
   "metadata": {
    "collapsed": false
   },
   "outputs": [
    {
     "data": {
      "text/plain": [
       "{'cache_enabled': True,\n",
       " 'custom_name': 'input',\n",
       " 'input_shape': (1, 4, 1000),\n",
       " 'name': 'Layer',\n",
       " 'trainable': True}"
      ]
     },
     "execution_count": 34,
     "metadata": {},
     "output_type": "execute_result"
    }
   ],
   "source": [
    "keras_model.inputs['input'].get_config()"
   ]
  },
  {
   "cell_type": "code",
   "execution_count": 28,
   "metadata": {
    "collapsed": false
   },
   "outputs": [
    {
     "data": {
      "text/plain": [
       "{'W_constraint': None,\n",
       " 'W_learning_rate_multiplier': None,\n",
       " 'W_regularizer': None,\n",
       " 'activation': 'linear',\n",
       " 'activity_regularizer': None,\n",
       " 'b_constraint': None,\n",
       " 'b_learning_rate_multiplier': None,\n",
       " 'b_regularizer': None,\n",
       " 'cache_enabled': True,\n",
       " 'custom_name': 'softmax_for_col_LMPPvLSC_dense',\n",
       " 'init': 'glorot_uniform',\n",
       " 'input_dim': None,\n",
       " 'name': 'Dense',\n",
       " 'output_dim': 3,\n",
       " 'trainable': True}"
      ]
     },
     "execution_count": 28,
     "metadata": {},
     "output_type": "execute_result"
    }
   ],
   "source": [
    "keras_model.nodes['softmax_for_col_LMPPvLSC_dense'].get_config()"
   ]
  },
  {
   "cell_type": "code",
   "execution_count": 31,
   "metadata": {
    "collapsed": false
   },
   "outputs": [
    {
     "data": {
      "text/plain": [
       "{'binary_peaks': <keras.layers.core.Activation at 0x125dc2110>,\n",
       " 'softmax_for_col_CLPvBcell': <keras.layers.core.Activation at 0x125d58f90>,\n",
       " 'softmax_for_col_CLPvCD4': <keras.layers.core.Activation at 0x125dcdb10>,\n",
       " 'softmax_for_col_CLPvCD8': <keras.layers.core.Activation at 0x125dd8b90>,\n",
       " 'softmax_for_col_CLPvNKcell': <keras.layers.core.Activation at 0x125dcd490>,\n",
       " 'softmax_for_col_CMPvErythroid': <keras.layers.core.Activation at 0x125dea2d0>,\n",
       " 'softmax_for_col_CMPvGMP': <keras.layers.core.Activation at 0x125d58990>,\n",
       " 'softmax_for_col_CMPvLSC': <keras.layers.core.Activation at 0x125df2350>,\n",
       " 'softmax_for_col_CMPvLeuk': <keras.layers.core.Activation at 0x125dfc3d0>,\n",
       " 'softmax_for_col_CMPvMEP': <keras.layers.core.Activation at 0x125de48d0>,\n",
       " 'softmax_for_col_CMPvMonocyte': <keras.layers.core.Activation at 0x125de4f50>,\n",
       " 'softmax_for_col_GMPvLSC': <keras.layers.core.Activation at 0x125dcde50>,\n",
       " 'softmax_for_col_GMPvLeuk': <keras.layers.core.Activation at 0x125d45790>,\n",
       " 'softmax_for_col_GMPvMonocyte': <keras.layers.core.Activation at 0x125dd8850>,\n",
       " 'softmax_for_col_HSCvBcell': <keras.layers.core.Activation at 0x125d62290>,\n",
       " 'softmax_for_col_HSCvCD4': <keras.layers.core.Activation at 0x125dfca50>,\n",
       " 'softmax_for_col_HSCvCD8': <keras.layers.core.Activation at 0x125dfc710>,\n",
       " 'softmax_for_col_HSCvCLP': <keras.layers.core.Activation at 0x125de4250>,\n",
       " 'softmax_for_col_HSCvCMP': <keras.layers.core.Activation at 0x125d58650>,\n",
       " 'softmax_for_col_HSCvErythroid': <keras.layers.core.Activation at 0x125d45450>,\n",
       " 'softmax_for_col_HSCvGMP': <keras.layers.core.Activation at 0x125dc2750>,\n",
       " 'softmax_for_col_HSCvLMPP': <keras.layers.core.Activation at 0x125de4c10>,\n",
       " 'softmax_for_col_HSCvMEP': <keras.layers.core.Activation at 0x125d62f90>,\n",
       " 'softmax_for_col_HSCvMPP': <keras.layers.core.Activation at 0x125d62c50>,\n",
       " 'softmax_for_col_HSCvMonocyte': <keras.layers.core.Activation at 0x125d5bbd0>,\n",
       " 'softmax_for_col_HSCvNKcell': <keras.layers.core.Activation at 0x125d5b890>,\n",
       " 'softmax_for_col_HSC|MPPvLSC': <keras.layers.core.Activation at 0x125dfcd90>,\n",
       " 'softmax_for_col_HSC|MPPvLeuk': <keras.layers.core.Activation at 0x125dfc090>,\n",
       " 'softmax_for_col_HSC|MPPvpHSC': <keras.layers.core.Activation at 0x125d625d0>,\n",
       " 'softmax_for_col_LMPPvBcell': <keras.layers.core.Activation at 0x125d62910>,\n",
       " 'softmax_for_col_LMPPvCD4': <keras.layers.core.Activation at 0x125deac90>,\n",
       " 'softmax_for_col_LMPPvCD8': <keras.layers.core.Activation at 0x125df2690>,\n",
       " 'softmax_for_col_LMPPvCLP': <keras.layers.core.Activation at 0x125df2d10>,\n",
       " 'softmax_for_col_LMPPvGMP': <keras.layers.core.Activation at 0x125d58c50>,\n",
       " 'softmax_for_col_LMPPvLSC': <keras.layers.core.Activation at 0x125dc2410>,\n",
       " 'softmax_for_col_LMPPvLeuk': <keras.layers.core.Activation at 0x125dc2a90>,\n",
       " 'softmax_for_col_LMPPvMonocyte': <keras.layers.core.Activation at 0x125dea610>,\n",
       " 'softmax_for_col_LMPPvNKcell': <keras.layers.core.Activation at 0x125deafd0>,\n",
       " 'softmax_for_col_LSCvLeuk': <keras.layers.core.Activation at 0x125dcd150>,\n",
       " 'softmax_for_col_MEPvErythroid': <keras.layers.core.Activation at 0x125d45ad0>,\n",
       " 'softmax_for_col_MPPvBcell': <keras.layers.core.Activation at 0x125dcd7d0>,\n",
       " 'softmax_for_col_MPPvCD4': <keras.layers.core.Activation at 0x125d45e10>,\n",
       " 'softmax_for_col_MPPvCD8': <keras.layers.core.Activation at 0x125d5b210>,\n",
       " 'softmax_for_col_MPPvCLP': <keras.layers.core.Activation at 0x125dd8ed0>,\n",
       " 'softmax_for_col_MPPvCMP': <keras.layers.core.Activation at 0x125d45110>,\n",
       " 'softmax_for_col_MPPvErythroid': <keras.layers.core.Activation at 0x125d5b550>,\n",
       " 'softmax_for_col_MPPvGMP': <keras.layers.core.Activation at 0x125dd8510>,\n",
       " 'softmax_for_col_MPPvLMPP': <keras.layers.core.Activation at 0x125dea950>,\n",
       " 'softmax_for_col_MPPvMEP': <keras.layers.core.Activation at 0x125dd81d0>,\n",
       " 'softmax_for_col_MPPvMonocyte': <keras.layers.core.Activation at 0x125dc2dd0>,\n",
       " 'softmax_for_col_MPPvNKcell': <keras.layers.core.Activation at 0x125de4590>,\n",
       " 'softmax_for_col_MonocytevLeuk': <keras.layers.core.Activation at 0x125d5bf10>,\n",
       " 'softmax_for_col_pHSCvLSC': <keras.layers.core.Activation at 0x125df29d0>,\n",
       " 'softmax_for_col_pHSCvLeuk': <keras.layers.core.Activation at 0x125d589d0>}"
      ]
     },
     "execution_count": 31,
     "metadata": {},
     "output_type": "execute_result"
    }
   ],
   "source": [
    "keras_model.outputs"
   ]
  },
  {
   "cell_type": "code",
   "execution_count": 49,
   "metadata": {
    "collapsed": false
   },
   "outputs": [
    {
     "ename": "SyntaxError",
     "evalue": "invalid syntax (models.py, line 118)",
     "output_type": "error",
     "traceback": [
      "\u001b[0;36m  File \u001b[0;32m\"/Users/avantishrikumar/Research/deeplift/deeplift/models.py\"\u001b[0;36m, line \u001b[0;32m118\u001b[0m\n\u001b[0;31m    return self._name_to_blob = name_to_blob\u001b[0m\n\u001b[0m                              ^\u001b[0m\n\u001b[0;31mSyntaxError\u001b[0m\u001b[0;31m:\u001b[0m invalid syntax\n"
     ]
    }
   ],
   "source": [
    "import keras_conversion as kc\n",
    "import models\n",
    "reload(models)\n",
    "reload(kc)\n",
    "import blobs\n",
    "reload(blobs)\n",
    "from blobs import MxtsMode\n",
    "deeplift_model = kc.convert_graph_model(keras_model, mxts_mode=MxtsMode.DeepLIFT)"
   ]
  },
  {
   "cell_type": "code",
   "execution_count": null,
   "metadata": {
    "collapsed": true
   },
   "outputs": [],
   "source": []
  }
 ],
 "metadata": {
  "kernelspec": {
   "display_name": "Python 2",
   "language": "python",
   "name": "python2"
  },
  "language_info": {
   "codemirror_mode": {
    "name": "ipython",
    "version": 2
   },
   "file_extension": ".py",
   "mimetype": "text/x-python",
   "name": "python",
   "nbconvert_exporter": "python",
   "pygments_lexer": "ipython2",
   "version": "2.7.11"
  }
 },
 "nbformat": 4,
 "nbformat_minor": 0
}
