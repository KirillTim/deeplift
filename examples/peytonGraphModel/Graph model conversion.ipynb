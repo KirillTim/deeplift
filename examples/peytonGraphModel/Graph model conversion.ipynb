{
 "cells": [
  {
   "cell_type": "code",
   "execution_count": 15,
   "metadata": {
    "collapsed": false
   },
   "outputs": [],
   "source": [
    "%matplotlib inline\n",
    "from __future__ import division;\n",
    "from __future__ import print_function;\n",
    "from __future__ import absolute_import;\n",
    "import sys, os;\n",
    "from collections import OrderedDict, namedtuple;\n",
    "import numpy as np;\n",
    "\n",
    "#import deepLIFT stuff\n",
    "scriptsDir = os.environ.get(\"DEEPLIFT_DIR\");\n",
    "if (scriptsDir is None):\n",
    "    raise Exception(\"Please set environment variable DEEPLIFT_DIR to point to the deeplift code (WITHIN the deeplift repo)\");\n",
    "sys.path.insert(0,scriptsDir);\n",
    "#Make sure the directory is set to import the lab's version of keras\n",
    "scriptsDir = os.environ.get(\"KERAS_DIR\");\n",
    "if (scriptsDir is None):\n",
    "    raise Exception(\"Please set environment variable KERAS_DIR\");\n",
    "sys.path.insert(0,scriptsDir)\n",
    "\n",
    "import keras_conversion as kc\n",
    "import theano\n",
    "import models\n",
    "from blobs import MxtsMode\n",
    "import deeplift_util"
   ]
  },
  {
   "cell_type": "code",
   "execution_count": 2,
   "metadata": {
    "collapsed": false
   },
   "outputs": [
    {
     "name": "stderr",
     "output_type": "stream",
     "text": [
      "Using Theano backend.\n"
     ]
    }
   ],
   "source": [
    "reload(kc)\n",
    "model_weights  = \"mar31_diff_and_present_peaks_datasetLeuk_75M_logpval5_diffmethoddeseq_top400000_peaksize1000_jitter50_noGCmatch_softmaxDiffTasks_CustomModel_GraphSoftmax_currentBest_epoch_5_modelWeights.h5\"\n",
    "model_yaml = \"mar31_diff_and_present_peaks_datasetLeuk_75M_logpval5_diffmethoddeseq_top400000_peaksize1000_jitter50_noGCmatch_softmaxDiffTasks_CustomModel_GraphSoftmax_currentBest_epoch_5_modelYaml.yaml\"\n",
    "keras_model = kc.load_keras_model(model_weights, model_yaml,\n",
    "                                  normalise_conv_for_one_hot_encoded_input=True,\n",
    "                                  name_of_conv_layer_to_normalise=\"conv1\")"
   ]
  },
  {
   "cell_type": "code",
   "execution_count": null,
   "metadata": {
    "collapsed": false
   },
   "outputs": [],
   "source": [
    "keras_model.inputs['input'].get_config()"
   ]
  },
  {
   "cell_type": "code",
   "execution_count": null,
   "metadata": {
    "collapsed": false
   },
   "outputs": [],
   "source": [
    "keras_model.nodes['softmax_for_col_LMPPvLSC_dense'].get_config()"
   ]
  },
  {
   "cell_type": "code",
   "execution_count": null,
   "metadata": {
    "collapsed": false,
    "scrolled": false
   },
   "outputs": [],
   "source": [
    "keras_model.nodes.keys()"
   ]
  },
  {
   "cell_type": "code",
   "execution_count": null,
   "metadata": {
    "collapsed": false,
    "scrolled": false
   },
   "outputs": [],
   "source": [
    "import keras_conversion as kc\n",
    "import models\n",
    "reload(models)\n",
    "reload(kc)\n",
    "import blobs\n",
    "reload(blobs)\n",
    "from blobs import MxtsMode\n",
    "deeplift_model = kc.convert_graph_model(keras_model, mxts_mode=MxtsMode.DeepLIFT)"
   ]
  },
  {
   "cell_type": "code",
   "execution_count": 17,
   "metadata": {
    "collapsed": false
   },
   "outputs": [],
   "source": [
    "#let's forward prop a bunch of random sequences through it\n",
    "random_sequences = np.random.uniform(size=(2000,1,4,1000))"
   ]
  },
  {
   "cell_type": "code",
   "execution_count": null,
   "metadata": {
    "collapsed": true
   },
   "outputs": [],
   "source": [
    "#will randomly check a couple of the outputs\n",
    "outputs_to_check = ['softmax_for_col_HSCvBcell_activ', 'softmax_for_col_HSCvErythroid_activ']"
   ]
  },
  {
   "cell_type": "code",
   "execution_count": null,
   "metadata": {
    "collapsed": false
   },
   "outputs": [],
   "source": [
    "import theano\n",
    "#compile theano functions to compute outputs for keras model\n",
    "keras_theano_funcs = [\n",
    "    theano.function([keras_model.inputs['input'].input],\n",
    "                    keras_model.nodes[output_layer_name].get_output(),\n",
    "                    allow_input_downcast=True)\n",
    "    for output_layer_name in outputs_to_check\n",
    "]"
   ]
  },
  {
   "cell_type": "code",
   "execution_count": null,
   "metadata": {
    "collapsed": false
   },
   "outputs": [],
   "source": [
    "#compile theano funcs to compute otuputs for deeplift model\n",
    "deeplift_theano_funcs = [\n",
    "    theano.function([deeplift_model.get_name_to_blob()['input'].get_activation_vars()],\n",
    "                    deeplift_model.get_name_to_blob()[output_layer_name].get_activation_vars(),\n",
    "                    allow_input_downcast=True) for output_layer_name in outputs_to_check\n",
    "]"
   ]
  },
  {
   "cell_type": "code",
   "execution_count": null,
   "metadata": {
    "collapsed": false
   },
   "outputs": [],
   "source": [
    "#get the fprop results for both keras and deeplift\n",
    "import deeplift_util\n",
    "#run the functions on all the inputs\n",
    "keras_results, deeplift_results = [[deeplift_util.run_function_in_batches(\n",
    "                                     func, input_data_list=[random_sequences],\n",
    "                                     batch_size=10, progress_update=None) for func in funcs]\n",
    "                                    for funcs in [keras_theano_funcs, deeplift_theano_funcs]]"
   ]
  },
  {
   "cell_type": "code",
   "execution_count": null,
   "metadata": {
    "collapsed": false
   },
   "outputs": [],
   "source": [
    "#verify that they differ by tiny amounts\n",
    "for keras_result, deeplift_result in zip(keras_results, deeplift_results):\n",
    "    print(\"for single seq\",np.sum(np.abs(np.array(keras_result[0])-np.array(deeplift_result[0]))))\n",
    "    print(\"across all seq\",np.sum(np.abs(np.array(keras_result)-np.array(deeplift_result))))"
   ]
  },
  {
   "cell_type": "code",
   "execution_count": 5,
   "metadata": {
    "collapsed": true
   },
   "outputs": [],
   "source": [
    "#make sure multiplier computation and stuff works\n",
    "output_layer_name = 'softmax_for_col_HSCvBcell_dense'"
   ]
  },
  {
   "cell_type": "code",
   "execution_count": null,
   "metadata": {
    "collapsed": true
   },
   "outputs": [],
   "source": [
    "contribs_func = deeplift_model.get_target_contribs_func(\n",
    "                 input_layer_name='input',\n",
    "                 pre_activation_target_layer_name=output_layer_name)"
   ]
  },
  {
   "cell_type": "code",
   "execution_count": null,
   "metadata": {
    "collapsed": false
   },
   "outputs": [],
   "source": [
    "contribs = contribs_func(task_idx=2, input_data_list=[random_sequences], batch_size=10, progress_update=200)"
   ]
  },
  {
   "cell_type": "code",
   "execution_count": 6,
   "metadata": {
    "collapsed": false
   },
   "outputs": [],
   "source": [
    "#for checking purposes, will verify that gradient computation is what it should be\n",
    "keras_gradient_function = theano.function([keras_model.inputs['input'].input],\n",
    "                           theano.tensor.grad(theano.tensor.sum(keras_model.nodes[output_layer_name].get_output()[:,2]),\n",
    "                                              keras_model.inputs['input'].input),\n",
    "                           allow_input_downcast=True)"
   ]
  },
  {
   "cell_type": "code",
   "execution_count": 10,
   "metadata": {
    "collapsed": false
   },
   "outputs": [],
   "source": [
    "reload(kc)\n",
    "reload(models)\n",
    "gradient_model = kc.convert_graph_model(keras_model, mxts_mode=MxtsMode.Gradient)\n",
    "gradients_func = gradient_model.get_target_multipliers_func(\n",
    "                     input_layer_name='input',\n",
    "                     pre_activation_target_layer_name=output_layer_name)"
   ]
  },
  {
   "cell_type": "code",
   "execution_count": 11,
   "metadata": {
    "collapsed": false
   },
   "outputs": [],
   "source": [
    "gradient_model_direct_gradient_function = theano.function([gradient_model.get_name_to_blob()['input'].get_activation_vars()],\n",
    "                           theano.tensor.grad(theano.tensor.sum(gradient_model.get_name_to_blob()[output_layer_name].get_activation_vars()[:,2]),\n",
    "                                              gradient_model.get_name_to_blob()['input'].get_activation_vars()),\n",
    "                           allow_input_downcast=True)"
   ]
  },
  {
   "cell_type": "code",
   "execution_count": 21,
   "metadata": {
    "collapsed": false
   },
   "outputs": [],
   "source": [
    "gradients_deeplift = gradients_func(task_idx=2, input_data_list=[random_sequences[:10]], batch_size=1, progress_update=None)"
   ]
  },
  {
   "cell_type": "code",
   "execution_count": 19,
   "metadata": {
    "collapsed": true
   },
   "outputs": [],
   "source": [
    "gradients_keras = deeplift_util.run_function_in_batches(\n",
    "                                     keras_gradient_function, input_data_list=[random_sequences[:10]], batch_size=1, progress_update=None)"
   ]
  },
  {
   "cell_type": "code",
   "execution_count": 18,
   "metadata": {
    "collapsed": false
   },
   "outputs": [],
   "source": [
    "gradients_direct = deeplift_util.run_function_in_batches(gradient_model_direct_gradient_function,\n",
    "                                                         input_data_list=[random_sequences[:10]], batch_size=1, progress_update=None)"
   ]
  },
  {
   "cell_type": "code",
   "execution_count": 20,
   "metadata": {
    "collapsed": false
   },
   "outputs": [
    {
     "data": {
      "text/plain": [
       "72.753975"
      ]
     },
     "execution_count": 20,
     "metadata": {},
     "output_type": "execute_result"
    }
   ],
   "source": [
    "np.sum(np.abs(np.array(gradients_direct)-np.array(gradients_keras)))"
   ]
  },
  {
   "cell_type": "code",
   "execution_count": null,
   "metadata": {
    "collapsed": true
   },
   "outputs": [],
   "source": []
  },
  {
   "cell_type": "code",
   "execution_count": 22,
   "metadata": {
    "collapsed": false
   },
   "outputs": [
    {
     "data": {
      "text/plain": [
       "93354.914"
      ]
     },
     "execution_count": 22,
     "metadata": {},
     "output_type": "execute_result"
    }
   ],
   "source": [
    "#uh oh\n",
    "np.sum(np.abs(np.array(gradients_deeplift)-np.array(gradients_keras)))"
   ]
  },
  {
   "cell_type": "code",
   "execution_count": null,
   "metadata": {
    "collapsed": false
   },
   "outputs": [],
   "source": [
    "gradients_deeplift"
   ]
  },
  {
   "cell_type": "code",
   "execution_count": null,
   "metadata": {
    "collapsed": false
   },
   "outputs": [],
   "source": [
    "gradients_keras"
   ]
  },
  {
   "cell_type": "code",
   "execution_count": null,
   "metadata": {
    "collapsed": true
   },
   "outputs": [],
   "source": []
  }
 ],
 "metadata": {
  "kernelspec": {
   "display_name": "Python 2",
   "language": "python",
   "name": "python2"
  },
  "language_info": {
   "codemirror_mode": {
    "name": "ipython",
    "version": 2
   },
   "file_extension": ".py",
   "mimetype": "text/x-python",
   "name": "python",
   "nbconvert_exporter": "python",
   "pygments_lexer": "ipython2",
   "version": "2.7.11"
  }
 },
 "nbformat": 4,
 "nbformat_minor": 0
}
