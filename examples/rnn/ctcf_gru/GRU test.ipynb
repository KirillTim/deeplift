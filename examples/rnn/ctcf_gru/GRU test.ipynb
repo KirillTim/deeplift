{
 "cells": [
  {
   "cell_type": "code",
   "execution_count": 1,
   "metadata": {
    "collapsed": false
   },
   "outputs": [
    {
     "name": "stderr",
     "output_type": "stream",
     "text": [
      "Using gpu device 0: GeForce GT 750M (CNMeM is disabled, cuDNN not available)\n",
      "/Users/avantishrikumar/anaconda/lib/python2.7/site-packages/theano/tensor/signal/downsample.py:6: UserWarning: downsample module has been moved to the theano.tensor.signal.pool module.\n",
      "  \"downsample module has been moved to the theano.tensor.signal.pool module.\")\n"
     ]
    }
   ],
   "source": [
    "#Set up environment and import necessary dependencies\n",
    "\n",
    "%matplotlib inline\n",
    "from __future__ import division;\n",
    "from __future__ import print_function;\n",
    "from __future__ import absolute_import;\n",
    "import sys, os;\n",
    "from collections import OrderedDict, namedtuple;\n",
    "import numpy as np;\n",
    "\n",
    "#Import some general util stuff\n",
    "scriptsDir = os.environ.get(\"UTIL_SCRIPTS_DIR\");\n",
    "if (scriptsDir is None):\n",
    "    raise Exception(\"Please set environment variable UTIL_SCRIPTS_DIR to point to av_scripts\");\n",
    "sys.path.insert(0,scriptsDir);\n",
    "import pathSetter;\n",
    "import util;\n",
    "import fileProcessing as fp\n",
    "from plottingUtilitiesPackage import matplotlibHelpers as mplh;\n",
    "\n",
    "#Make sure the directory is set to import the lab's version of keras\n",
    "scriptsDir = os.environ.get(\"KERAS_DIR\");\n",
    "if (scriptsDir is None):\n",
    "    raise Exception(\"Please set environment variable KERAS_DIR\");\n",
    "sys.path.insert(0,scriptsDir)\n",
    "\n",
    "import deeplift.conversion.keras_conversion as kc\n",
    "import theano"
   ]
  },
  {
   "cell_type": "code",
   "execution_count": 2,
   "metadata": {
    "collapsed": false
   },
   "outputs": [
    {
     "name": "stderr",
     "output_type": "stream",
     "text": [
      "Using Theano backend.\n"
     ]
    }
   ],
   "source": [
    "#Load the keras model, make sure you normalise the weights\n",
    "#of the first convolutional layer to be mean-centered at each position.\n",
    "model_weights = \"record_2_model_9OmQ2_modelWeights.h5\"\n",
    "model_yaml = \"record_2_model_9OmQ2_modelYaml.yaml\"\n",
    "reload(kc)\n",
    "from keras.models import model_from_yaml                                    \n",
    "keras_model = model_from_yaml(open(model_yaml).read())                                  \n",
    "keras_model.load_weights(model_weights)"
   ]
  },
  {
   "cell_type": "code",
   "execution_count": 3,
   "metadata": {
    "collapsed": false
   },
   "outputs": [
    {
     "data": {
      "text/plain": [
       "[<keras.layers.core.Reshape at 0x120f5bf90>,\n",
       " <keras.layers.core.Permute at 0x120fb4390>,\n",
       " <keras.layers.recurrent.GRU at 0x120fb43d0>,\n",
       " <keras.layers.core.Dense at 0x120fb4450>,\n",
       " <keras.layers.core.Activation at 0x120fdff90>]"
      ]
     },
     "execution_count": 3,
     "metadata": {},
     "output_type": "execute_result"
    }
   ],
   "source": [
    "keras_model.layers"
   ]
  },
  {
   "cell_type": "code",
   "execution_count": 4,
   "metadata": {
    "collapsed": false
   },
   "outputs": [],
   "source": [
    "#normalize the weights for the RNN\n",
    "import deeplift\n",
    "reload(deeplift.util)\n",
    "rnn_layer = keras_model.layers[2]\n",
    "[W_z, U_z, b_z,\n",
    " W_r, U_r, b_r,\n",
    " W_h, U_h, b_h] = rnn_layer.get_weights()\n",
    "W_r, b_r = deeplift.util.mean_normalise_rnn_weights(W_r, b_r)\n",
    "W_z, b_z = deeplift.util.mean_normalise_rnn_weights(W_z, b_z)\n",
    "W_h, b_h = deeplift.util.mean_normalise_rnn_weights(W_h, b_h)\n",
    "rnn_layer.set_weights([W_z, U_z, b_z, W_r, U_r, b_r, W_h, U_h, b_h])"
   ]
  },
  {
   "cell_type": "code",
   "execution_count": 5,
   "metadata": {
    "collapsed": false
   },
   "outputs": [
    {
     "data": {
      "text/plain": [
       "(100, 2)"
      ]
     },
     "execution_count": 5,
     "metadata": {},
     "output_type": "execute_result"
    }
   ],
   "source": [
    "keras_model.layers[3].get_weights()[0].shape"
   ]
  },
  {
   "cell_type": "code",
   "execution_count": 6,
   "metadata": {
    "collapsed": false
   },
   "outputs": [
    {
     "data": {
      "text/plain": [
       "{'activation': 'tanh',\n",
       " 'cache_enabled': True,\n",
       " 'custom_name': 'gru',\n",
       " 'go_backwards': False,\n",
       " 'init': 'glorot_uniform',\n",
       " 'inner_activation': 'hard_sigmoid',\n",
       " 'inner_init': 'orthogonal',\n",
       " 'input_dim': 4,\n",
       " 'input_length': None,\n",
       " 'input_shape': (None, 4),\n",
       " 'name': 'GRU',\n",
       " 'output_dim': 100,\n",
       " 'return_sequences': False,\n",
       " 'stateful': False,\n",
       " 'trainable': True}"
      ]
     },
     "execution_count": 6,
     "metadata": {},
     "output_type": "execute_result"
    }
   ],
   "source": [
    "keras_model.layers[2].get_config()"
   ]
  },
  {
   "cell_type": "code",
   "execution_count": 7,
   "metadata": {
    "collapsed": true
   },
   "outputs": [],
   "source": [
    "#compile a function to get the outputs\n",
    "keras_output_func = theano.function([keras_model.layers[0].input],\n",
    "                               keras_model.layers[-1].get_output(), allow_input_downcast=True)"
   ]
  },
  {
   "cell_type": "code",
   "execution_count": 8,
   "metadata": {
    "collapsed": false
   },
   "outputs": [
    {
     "name": "stdout",
     "output_type": "stream",
     "text": [
      "(0, 'rows skipped from', 'singleMotifSim_motif-CTCF_known1_seqLength-150_numSeqs-1000.simdata.gz')\n",
      "(0, 'rows skipped from', 'singleMotifSim_seqLength-150_numSeqs-1000.simdata.gz')\n",
      "Returning desired dict\n",
      "Making numpy arrays out of the loaded files\n",
      "('train', 'shapeX', (1400, 1, 4, 150))\n",
      "('train', 'shapeY', (1400, 2))\n",
      "('valid', 'shapeX', (300, 1, 4, 150))\n",
      "('valid', 'shapeY', (300, 2))\n",
      "('test', 'shapeX', (300, 1, 4, 150))\n",
      "('test', 'shapeY', (300, 2))\n"
     ]
    }
   ],
   "source": [
    "from importDataPackage import importData\n",
    "reload(importData)\n",
    "trainData, validData, testData = importData.loadTrainTestValidFromYaml(\"yaml/features.yaml\",\"yaml/labels.yaml\", \"yaml/splits.yaml\")"
   ]
  },
  {
   "cell_type": "code",
   "execution_count": 9,
   "metadata": {
    "collapsed": false
   },
   "outputs": [],
   "source": [
    "#get predictions from keras model\n",
    "keras_test_preds = keras_output_func(testData.X)"
   ]
  },
  {
   "cell_type": "code",
   "execution_count": 10,
   "metadata": {
    "collapsed": false
   },
   "outputs": [
    {
     "data": {
      "text/plain": [
       "0.97960000000000003"
      ]
     },
     "execution_count": 10,
     "metadata": {},
     "output_type": "execute_result"
    }
   ],
   "source": [
    "from sklearn.metrics import roc_auc_score\n",
    "roc_auc_score(y_true=testData.Y[:,0], y_score=keras_test_preds[:,0])"
   ]
  },
  {
   "cell_type": "code",
   "execution_count": 26,
   "metadata": {
    "collapsed": false
   },
   "outputs": [],
   "source": [
    "import deeplift\n",
    "reload(deeplift)\n",
    "reload(kc)\n",
    "reload(deeplift.blobs)\n",
    "reload(deeplift.backend)\n",
    "#(haven't implemented reshape and permute yet but I want to get right to it)\n",
    "deeplift_layers = [deeplift.blobs.Input_FixedDefault(default=0.0, num_dims=3, shape=(150,4), name=\"input\")]+\\\n",
    "    kc.gru_conversion(keras_model.layers[2], name=str(\"layer0\"))+\\\n",
    "    kc.dense_conversion(keras_model.layers[3], name=str(\"layer1\"), mxts_mode=deeplift.blobs.MxtsMode.DeepLIFT, expo_upweight_factor=0)+\\\n",
    "    kc.activation_conversion(keras_model.layers[4], name=str(\"layer2\"), mxts_mode=deeplift.blobs.MxtsMode.DeepLIFT, expo_upweight_factor=0)\n",
    "\n",
    "deeplift.util.connect_list_of_layers(deeplift_layers)\n",
    "deeplift_layers[-1]._build_fwd_pass_vars()\n",
    "deeplift_model = deeplift.models.SequentialModel(layers=deeplift_layers)"
   ]
  },
  {
   "cell_type": "code",
   "execution_count": 27,
   "metadata": {
    "collapsed": false
   },
   "outputs": [],
   "source": [
    "deeplift_output_func = theano.function([deeplift_model.get_layers()[0].get_activation_vars()],\n",
    "                                        deeplift_model.get_layers()[-1].get_activation_vars(),\n",
    "                                        allow_input_downcast=True)"
   ]
  },
  {
   "cell_type": "code",
   "execution_count": 28,
   "metadata": {
    "collapsed": true
   },
   "outputs": [],
   "source": [
    "deeplift_test_preds = deeplift_output_func(np.transpose(np.squeeze(testData.X), axes=(0,2,1)))"
   ]
  },
  {
   "cell_type": "code",
   "execution_count": 29,
   "metadata": {
    "collapsed": false
   },
   "outputs": [
    {
     "data": {
      "text/plain": [
       "0.97960000000000003"
      ]
     },
     "execution_count": 29,
     "metadata": {},
     "output_type": "execute_result"
    }
   ],
   "source": [
    "from sklearn.metrics import roc_auc_score\n",
    "roc_auc_score(y_true=testData.Y[:,0], y_score=deeplift_test_preds[:,0])"
   ]
  },
  {
   "cell_type": "code",
   "execution_count": 30,
   "metadata": {
    "collapsed": false
   },
   "outputs": [
    {
     "data": {
      "text/plain": [
       "0.0"
      ]
     },
     "execution_count": 30,
     "metadata": {},
     "output_type": "execute_result"
    }
   ],
   "source": [
    "np.sum(np.abs(keras_test_preds-deeplift_test_preds))"
   ]
  },
  {
   "cell_type": "code",
   "execution_count": 31,
   "metadata": {
    "collapsed": false
   },
   "outputs": [],
   "source": [
    "deeplift_model._set_scoring_mode_for_pre_activation_target_layer(deeplift_model.get_layers()[-2])\n",
    "deeplift_model.get_layers()[-2].set_active()\n",
    "deeplift_model.get_layers()[-2].update_task_index(0)\n",
    "deeplift_model.get_layers()[0].update_mxts()"
   ]
  },
  {
   "cell_type": "code",
   "execution_count": 32,
   "metadata": {
    "collapsed": false,
    "scrolled": false
   },
   "outputs": [],
   "source": [
    "contribs_func = deeplift_model.get_target_contribs_func(find_scores_layer_idx=0)\n",
    "imp_scores = contribs_func(task_idx=0,\n",
    "                           input_data_list=[np.transpose(np.squeeze(testData.X), axes=(0,2,1))],\n",
    "                           batch_size=10, progress_update=None)"
   ]
  },
  {
   "cell_type": "code",
   "execution_count": 33,
   "metadata": {
    "collapsed": false
   },
   "outputs": [
    {
     "name": "stdout",
     "output_type": "stream",
     "text": [
      "1.13702\n"
     ]
    }
   ],
   "source": [
    "print(np.mean(np.max(np.reshape(imp_scores, (300,-1)),axis=1)))"
   ]
  },
  {
   "cell_type": "code",
   "execution_count": 34,
   "metadata": {
    "collapsed": false
   },
   "outputs": [
    {
     "data": {
      "text/plain": [
       "(300, 150, 4)"
      ]
     },
     "execution_count": 34,
     "metadata": {},
     "output_type": "execute_result"
    }
   ],
   "source": [
    "np.array(imp_scores).shape"
   ]
  },
  {
   "cell_type": "code",
   "execution_count": 35,
   "metadata": {
    "collapsed": false
   },
   "outputs": [],
   "source": [
    "top_predicted_positives = [x[0] for x in sorted(enumerate(deeplift_test_preds[:,0]), key=lambda x: -x[1])]"
   ]
  },
  {
   "cell_type": "code",
   "execution_count": null,
   "metadata": {
    "collapsed": true
   },
   "outputs": [],
   "source": [
    "scriptsDir = os.environ.get(\"ENHANCER_SCRIPTS_DIR\")\n",
    "if (scriptsDir is None):\n",
    "    raise Exception(\"Please set environment variable ENHANCER_SCRIPTS_DIR to point to the enhancer_prediction_code repo\");\n",
    "sys.path.insert(0,scriptsDir+\"/featureSelector/deepLIFFT\")\n",
    "from deepLIFTutils import makePngOfSequenceDeepLIFTScores"
   ]
  },
  {
   "cell_type": "code",
   "execution_count": null,
   "metadata": {
    "collapsed": false
   },
   "outputs": [
    {
     "name": "stdout",
     "output_type": "stream",
     "text": [
      "11 [1 1] posSynth862\n",
      "1.04046\n",
      "('Saving', 'blah.png')"
     ]
    }
   ],
   "source": [
    "idx=top_predicted_positives[2]\n",
    "print(idx, testData.Y[idx], testData.ids[idx])\n",
    "print(np.max(imp_scores[idx]))\n",
    "makePngOfSequenceDeepLIFTScores(imp_scores[idx].T[None,:,:], pngName=\"blah.png\")"
   ]
  },
  {
   "cell_type": "code",
   "execution_count": null,
   "metadata": {
    "collapsed": true
   },
   "outputs": [],
   "source": []
  }
 ],
 "metadata": {
  "kernelspec": {
   "display_name": "Python 2",
   "language": "python",
   "name": "python2"
  },
  "language_info": {
   "codemirror_mode": {
    "name": "ipython",
    "version": 2
   },
   "file_extension": ".py",
   "mimetype": "text/x-python",
   "name": "python",
   "nbconvert_exporter": "python",
   "pygments_lexer": "ipython2",
   "version": "2.7.11"
  }
 },
 "nbformat": 4,
 "nbformat_minor": 0
}
