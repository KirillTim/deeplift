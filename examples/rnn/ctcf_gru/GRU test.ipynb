{
 "cells": [
  {
   "cell_type": "code",
   "execution_count": 31,
   "metadata": {
    "collapsed": false
   },
   "outputs": [],
   "source": [
    "#Set up environment and import necessary dependencies\n",
    "\n",
    "%matplotlib inline\n",
    "from __future__ import division;\n",
    "from __future__ import print_function;\n",
    "from __future__ import absolute_import;\n",
    "import sys, os;\n",
    "from collections import OrderedDict, namedtuple;\n",
    "import numpy as np;\n",
    "\n",
    "#Import some general util stuff\n",
    "scriptsDir = os.environ.get(\"UTIL_SCRIPTS_DIR\");\n",
    "if (scriptsDir is None):\n",
    "    raise Exception(\"Please set environment variable UTIL_SCRIPTS_DIR to point to av_scripts\");\n",
    "sys.path.insert(0,scriptsDir);\n",
    "import pathSetter;\n",
    "import util;\n",
    "import fileProcessing as fp\n",
    "from plottingUtilitiesPackage import matplotlibHelpers as mplh;\n",
    "\n",
    "#Make sure the directory is set to import the lab's version of keras\n",
    "scriptsDir = os.environ.get(\"KERAS_DIR\");\n",
    "if (scriptsDir is None):\n",
    "    raise Exception(\"Please set environment variable KERAS_DIR\");\n",
    "sys.path.insert(0,scriptsDir)\n",
    "\n",
    "import deeplift.conversion.keras_conversion as kc\n",
    "import theano"
   ]
  },
  {
   "cell_type": "code",
   "execution_count": 4,
   "metadata": {
    "collapsed": false
   },
   "outputs": [
    {
     "name": "stderr",
     "output_type": "stream",
     "text": [
      "Using Theano backend.\n"
     ]
    }
   ],
   "source": [
    "#Load the keras model, make sure you normalise the weights\n",
    "#of the first convolutional layer to be mean-centered at each position.\n",
    "model_weights = \"record_2_model_9OmQ2_modelWeights.h5\"\n",
    "model_yaml = \"record_2_model_9OmQ2_modelYaml.yaml\"\n",
    "reload(kc)\n",
    "from keras.models import model_from_yaml                                    \n",
    "keras_model = model_from_yaml(open(model_yaml).read())                                  \n",
    "keras_model.load_weights(model_weights)"
   ]
  },
  {
   "cell_type": "code",
   "execution_count": 9,
   "metadata": {
    "collapsed": false
   },
   "outputs": [
    {
     "data": {
      "text/plain": [
       "[<keras.layers.core.Reshape at 0x11fdc8950>,\n",
       " <keras.layers.core.Permute at 0x11fe19c10>,\n",
       " <keras.layers.recurrent.GRU at 0x11fe19c50>,\n",
       " <keras.layers.core.Dense at 0x11fe19cd0>,\n",
       " <keras.layers.core.Activation at 0x11fe51850>]"
      ]
     },
     "execution_count": 9,
     "metadata": {},
     "output_type": "execute_result"
    }
   ],
   "source": [
    "keras_model.layers"
   ]
  },
  {
   "cell_type": "code",
   "execution_count": 11,
   "metadata": {
    "collapsed": false
   },
   "outputs": [
    {
     "data": {
      "text/plain": [
       "{'activation': 'tanh',\n",
       " 'cache_enabled': True,\n",
       " 'custom_name': 'gru',\n",
       " 'go_backwards': False,\n",
       " 'init': 'glorot_uniform',\n",
       " 'inner_activation': 'hard_sigmoid',\n",
       " 'inner_init': 'orthogonal',\n",
       " 'input_dim': 4,\n",
       " 'input_length': None,\n",
       " 'input_shape': (None, 4),\n",
       " 'name': 'GRU',\n",
       " 'output_dim': 100,\n",
       " 'return_sequences': False,\n",
       " 'stateful': False,\n",
       " 'trainable': True}"
      ]
     },
     "execution_count": 11,
     "metadata": {},
     "output_type": "execute_result"
    }
   ],
   "source": [
    "keras_model.layers[2].get_config()"
   ]
  },
  {
   "cell_type": "code",
   "execution_count": 32,
   "metadata": {
    "collapsed": true
   },
   "outputs": [],
   "source": [
    "#compile a function to get the outputs\n",
    "keras_output_func = theano.function([keras_model.layers[0].input],\n",
    "                               keras_model.layers[-1].get_output(), allow_input_downcast=True)"
   ]
  },
  {
   "cell_type": "code",
   "execution_count": 16,
   "metadata": {
    "collapsed": false
   },
   "outputs": [
    {
     "name": "stdout",
     "output_type": "stream",
     "text": [
      "(0, 'rows skipped from', 'singleMotifSim_motif-CTCF_known1_seqLength-150_numSeqs-1000.simdata.gz')\n",
      "(0, 'rows skipped from', 'singleMotifSim_seqLength-150_numSeqs-1000.simdata.gz')\n",
      "Returning desired dict\n",
      "Making numpy arrays out of the loaded files\n",
      "('train', 'shapeX', (1400, 1, 4, 150))\n",
      "('train', 'shapeY', (1400, 2))\n",
      "('valid', 'shapeX', (300, 1, 4, 150))\n",
      "('valid', 'shapeY', (300, 2))\n",
      "('test', 'shapeX', (300, 1, 4, 150))\n",
      "('test', 'shapeY', (300, 2))\n"
     ]
    }
   ],
   "source": [
    "from importDataPackage import importData\n",
    "reload(importData)\n",
    "trainData, validData, testData = importData.loadTrainTestValidFromYaml(\"yaml/features.yaml\",\"yaml/labels.yaml\", \"yaml/splits.yaml\")"
   ]
  },
  {
   "cell_type": "code",
   "execution_count": 38,
   "metadata": {
    "collapsed": false
   },
   "outputs": [],
   "source": [
    "#get predictions from keras model\n",
    "keras_test_preds = keras_output_func(testData.X)"
   ]
  },
  {
   "cell_type": "code",
   "execution_count": 39,
   "metadata": {
    "collapsed": false
   },
   "outputs": [
    {
     "data": {
      "text/plain": [
       "0.97960000000000003"
      ]
     },
     "execution_count": 39,
     "metadata": {},
     "output_type": "execute_result"
    }
   ],
   "source": [
    "from sklearn.metrics import roc_auc_score\n",
    "roc_auc_score(y_true=testData.Y[:,0], y_score=keras_test_preds[:,0])"
   ]
  },
  {
   "cell_type": "code",
   "execution_count": 59,
   "metadata": {
    "collapsed": false
   },
   "outputs": [],
   "source": [
    "import deeplift\n",
    "reload(deeplift)\n",
    "reload(kc)\n",
    "reload(deeplift.blobs)\n",
    "reload(deeplift.backend)\n",
    "#(haven't implemented reshape and permute yet but I want to get right to it)\n",
    "deeplift_layers = [\n",
    "    deeplift.blobs.Input_FixedDefault(default=0.25, num_dims=3, shape=(150,4), name=\"input\")]+\\\n",
    "    kc.gru_conversion(keras_model.layers[2], name=str(\"layer0\"))+\\\n",
    "    kc.dense_conversion(keras_model.layers[3], name=str(\"layer1\"), mxts_mode=deeplift.blobs.MxtsMode.DeepLIFT, expo_upweight_factor=0)\n",
    "\n",
    "deeplift.util.connect_list_of_layers(deeplift_layers)\n",
    "deeplift_layers[-1]._build_fwd_pass_vars()\n",
    "deeplift_model = deeplift.models.SequentialModel(layers=deeplift_layers)"
   ]
  },
  {
   "cell_type": "code",
   "execution_count": null,
   "metadata": {
    "collapsed": false
   },
   "outputs": [],
   "source": [
    "deeplift_output_func = theano.function([deeplift_model.get_layers()[0].get_activation_vars()],\n",
    "                                        deeplift_model.get_layers()[-1].get_activation_vars(),\n",
    "                                        allow_input_downcast=True)"
   ]
  },
  {
   "cell_type": "code",
   "execution_count": null,
   "metadata": {
    "collapsed": true
   },
   "outputs": [],
   "source": []
  }
 ],
 "metadata": {
  "kernelspec": {
   "display_name": "Python 2",
   "language": "python",
   "name": "python2"
  },
  "language_info": {
   "codemirror_mode": {
    "name": "ipython",
    "version": 2
   },
   "file_extension": ".py",
   "mimetype": "text/x-python",
   "name": "python",
   "nbconvert_exporter": "python",
   "pygments_lexer": "ipython2",
   "version": "2.7.11"
  }
 },
 "nbformat": 4,
 "nbformat_minor": 0
}
