{
 "cells": [
  {
   "cell_type": "code",
   "execution_count": 1,
   "metadata": {
    "collapsed": false
   },
   "outputs": [
    {
     "name": "stderr",
     "output_type": "stream",
     "text": [
      "Using gpu device 0: GeForce GT 750M (CNMeM is disabled, CuDNN not available)\n",
      "/Users/avantishrikumar/anaconda/lib/python2.7/site-packages/theano/tensor/signal/downsample.py:5: UserWarning: downsample module has been moved to the pool module.\n",
      "  warnings.warn(\"downsample module has been moved to the pool module.\")\n",
      "Using Theano backend.\n"
     ]
    }
   ],
   "source": [
    "#Set up environment and import necessary dependencies\n",
    "\n",
    "%matplotlib inline\n",
    "from __future__ import division;\n",
    "from __future__ import print_function;\n",
    "from __future__ import absolute_import;\n",
    "import sys, os;\n",
    "from collections import OrderedDict, namedtuple, Counter;\n",
    "import numpy as np;\n",
    "import theano\n",
    "np.random.seed(1234)\n",
    "\n",
    "scriptsDir = os.environ.get(\"KERAS_DIR\");\n",
    "if (scriptsDir is None):\n",
    "    raise Exception(\"Please set environment variable KERAS_DIR\");\n",
    "sys.path.insert(0,scriptsDir)\n",
    "import keras\n",
    "\n",
    "scriptsDir = os.environ.get(\"DEEPLIFT_DIR\");\n",
    "if (scriptsDir is None):\n",
    "    raise Exception(\"Please set environment variable DEEPLIFT_DIR\");\n",
    "sys.path.insert(0,scriptsDir)\n",
    "\n",
    "#Import some general util stuff\n",
    "scriptsDir = os.environ.get(\"UTIL_SCRIPTS_DIR\");\n",
    "if (scriptsDir is None):\n",
    "    raise Exception(\"Please set environment variable UTIL_SCRIPTS_DIR to point to av_scripts\");\n",
    "sys.path.insert(0,scriptsDir);\n",
    "import pathSetter;\n",
    "import util;\n",
    "import fileProcessing as fp\n",
    "from plottingUtilitiesPackage import matplotlibHelpers as mplh;\n",
    "\n",
    "scriptsDir = os.environ.get(\"ENHANCER_SCRIPTS_DIR\");\n",
    "if (scriptsDir is None):\n",
    "    raise Exception(\"Please set environment variable ENHANCER_SCRIPTS_DIR to point to enhancer_prediction_code\");\n",
    "sys.path.insert(0,scriptsDir+\"/featureSelector/deepLIFFT/\");\n",
    "import criticalSubsetIdentification as csi\n",
    "#import deepLIFT stuff\n",
    "import deepLIFTutils\n",
    "sys.path.insert(0,scriptsDir+\"/featureSelector/deepLIFFT/kerasBasedBackprop\");\n",
    "from deepLIFTonGPU import ScoreTypes, Activations_enum, OutLayerInfo, getScoreFunc"
   ]
  },
  {
   "cell_type": "code",
   "execution_count": 2,
   "metadata": {
    "collapsed": false
   },
   "outputs": [],
   "source": [
    "#Load the keras model, make sure you normalise the weights\n",
    "#of the first convolutional layer to be mean-centered at each position.\n",
    "import vgg16_keras \n",
    "reload(vgg16_keras)\n",
    "from vgg16_keras import *\n",
    "import h5py\n",
    "reload(deepLIFTutils)\n",
    "#/srv/scratch/annashch/cs231n_project/vgg16_weights_dropout_regularization_augmenteddataTintContrast.stupidsgd.hdf5\n",
    "keras_model=VGG_16('vgg16_weights_dropout_regularization_augmenteddataTintContrast.stupidsgd.hdf5')\n",
    "#mean_normalise_softmax_weights(keras_model.layers[-2])\n"
   ]
  },
  {
   "cell_type": "code",
   "execution_count": 3,
   "metadata": {
    "collapsed": false,
    "scrolled": false
   },
   "outputs": [
    {
     "name": "stdout",
     "output_type": "stream",
     "text": [
      "Mean-normalising softmax\n"
     ]
    }
   ],
   "source": [
    "import keras_conversion as kc\n",
    "reload(kc)\n",
    "import deeplift_backend as B\n",
    "reload(B)\n",
    "import blobs\n",
    "reload(blobs)\n",
    "import models\n",
    "reload(models)\n",
    "import deeplift_util\n",
    "reload(deeplift_util)\n",
    "deeplift_model = kc.convert_sequential_model(keras_model)"
   ]
  },
  {
   "cell_type": "code",
   "execution_count": null,
   "metadata": {
    "collapsed": false
   },
   "outputs": [],
   "source": [
    "model.layers"
   ]
  },
  {
   "cell_type": "code",
   "execution_count": null,
   "metadata": {
    "collapsed": false
   },
   "outputs": [],
   "source": [
    "model.layers[0].get_config()"
   ]
  },
  {
   "cell_type": "code",
   "execution_count": 4,
   "metadata": {
    "collapsed": false
   },
   "outputs": [],
   "source": [
    "import h5py\n",
    "data=h5py.File('imagenet.validation.first50.hdf5','r')\n",
    "validData=np.asarray(data['X_valid'])\n",
    "Y_valid=np.asarray(data['Y_valid'])\n",
    "data=validData "
   ]
  },
  {
   "cell_type": "code",
   "execution_count": null,
   "metadata": {
    "collapsed": false
   },
   "outputs": [],
   "source": [
    "#get the outputs of the net on the validation set\n",
    "reload(deepLIFTutils)\n",
    "print(np.shape(data))\n",
    "import theano\n",
    "import deeplift_util\n",
    "\n",
    "keras_output_func = theano.function([keras_model.layers[0].input],\n",
    "                                     keras_model.layers[-1].get_output(train=False),\n",
    "                                     allow_input_downcast=True)\n",
    "keras_outputs = deeplift_util.run_function_in_batches(keras_output_func, input_data_list=[data])\n",
    "keras_outputs=np.array(keras_outputs)"
   ]
  },
  {
   "cell_type": "code",
   "execution_count": null,
   "metadata": {
    "collapsed": false,
    "scrolled": false
   },
   "outputs": [],
   "source": [
    "deeplift_output_func = theano.function([deeplift_model.get_layers()[0].get_activation_vars()],\n",
    "                                        deeplift_model.get_layers()[-1].get_activation_vars(),\n",
    "                                        allow_input_downcast=True)\n",
    "deeplift_outputs = deeplift_util.run_function_in_batches(deeplift_output_func, input_data_list=[data])\n",
    "deeplift_outputs = np.array(deeplift_outputs)"
   ]
  },
  {
   "cell_type": "code",
   "execution_count": null,
   "metadata": {
    "collapsed": false
   },
   "outputs": [],
   "source": [
    "np.sum(np.abs(keras_outputs-deeplift_outputs))"
   ]
  },
  {
   "cell_type": "code",
   "execution_count": 5,
   "metadata": {
    "collapsed": false
   },
   "outputs": [
    {
     "name": "stdout",
     "output_type": "stream",
     "text": [
      "class: 117\n"
     ]
    }
   ],
   "source": [
    "idx = 18\n",
    "softmax_class = np.argmax(Y_valid[idx])\n",
    "print(\"class:\",softmax_class)"
   ]
  },
  {
   "cell_type": "code",
   "execution_count": null,
   "metadata": {
    "collapsed": false,
    "scrolled": false
   },
   "outputs": [],
   "source": [
    "#compile the gradient function\n",
    "grad_var = theano.tensor.grad(\n",
    "            theano.tensor.sum(deeplift_model.get_layers()[-2].get_activation_vars()[:,softmax_class]),\n",
    "            deeplift_model.get_layers()[0].get_activation_vars())\n",
    "grad_func = theano.function([deeplift_model.get_layers()[0].get_activation_vars()], grad_var, allow_input_downcast=True)"
   ]
  },
  {
   "cell_type": "code",
   "execution_count": null,
   "metadata": {
    "collapsed": false
   },
   "outputs": [],
   "source": [
    "#compute the gradients\n",
    "gradients = deeplift_util.run_function_in_batches(grad_func, input_data_list=[data])"
   ]
  },
  {
   "cell_type": "code",
   "execution_count": 6,
   "metadata": {
    "collapsed": true
   },
   "outputs": [],
   "source": [
    "target_contribs_func = deeplift_model.get_target_contribs_func(input_layer_idx=0)"
   ]
  },
  {
   "cell_type": "code",
   "execution_count": 7,
   "metadata": {
    "collapsed": false
   },
   "outputs": [
    {
     "name": "stdout",
     "output_type": "stream",
     "text": [
      "Done 0\n"
     ]
    }
   ],
   "source": [
    "deeplift_contribs = target_contribs_func(task_idx=softmax_class,\n",
    "                                         input_data_list=[data],\n",
    "                                         batch_size=10,\n",
    "                                         progress_update=10000)"
   ]
  },
  {
   "cell_type": "code",
   "execution_count": 9,
   "metadata": {
    "collapsed": true
   },
   "outputs": [],
   "source": [
    "def rescale_func(values):\n",
    "    values = 255.0*(values - np.min(values))/(np.max(values)-np.min(values))\n",
    "    return values"
   ]
  },
  {
   "cell_type": "code",
   "execution_count": 10,
   "metadata": {
    "collapsed": false
   },
   "outputs": [
    {
     "data": {
      "text/plain": [
       "<matplotlib.image.AxesImage at 0x156c30110>"
      ]
     },
     "execution_count": 10,
     "metadata": {},
     "output_type": "execute_result"
    },
    {
     "data": {
      "image/png": "[encoded data removed]",
      "text/plain": [
       "<matplotlib.figure.Figure at 0x146597210>"
      ]
     },
     "metadata": {},
     "output_type": "display_data"
    }
   ],
   "source": [
    "import skimage \n",
    "from skimage.io import imread\n",
    "import matplotlib.pyplot as plt\n",
    "img_original=imread('val_'+str(idx)+'.JPEG').astype(np.uint8)\n",
    "plt.figure(figsize=(10, 2), facecolor='w')\n",
    "plt.suptitle(\"\")\n",
    "plt.subplot(1, 5, 1)\n",
    "plt.title('Original')\n",
    "plt.imshow(img_original)\n",
    "plt.subplot(1,5,2)\n",
    "plt.title('Preprocessed')\n",
    "plt.imshow(data[idx].transpose(1,2,0).astype(np.uint8))\n",
    "#plt.subplot(1,5,3)\n",
    "#plt.title('Gradient')\n",
    "#plt.imshow(rescale_func(gradients[idx]).transpose(1,2,0).astype(np.uint8))\n",
    "#plt.subplot(1,5,4)\n",
    "#plt.title('grad*inp (Taylor)')\n",
    "#plt.imshow(rescale_func(gradients[idx]*data[idx]).transpose(1,2,0).astype(np.uint8))\n",
    "plt.subplot(1,5,5)\n",
    "plt.title('DeepLIFT')\n",
    "plt.imshow(rescale_func(deeplift_contribs[idx]).transpose(1,2,0).astype(np.uint8))\n"
   ]
  },
  {
   "cell_type": "code",
   "execution_count": null,
   "metadata": {
    "collapsed": true
   },
   "outputs": [],
   "source": []
  }
 ],
 "metadata": {
  "kernelspec": {
   "display_name": "Python 2",
   "language": "python",
   "name": "python2"
  },
  "language_info": {
   "codemirror_mode": {
    "name": "ipython",
    "version": 2
   },
   "file_extension": ".py",
   "mimetype": "text/x-python",
   "name": "python",
   "nbconvert_exporter": "python",
   "pygments_lexer": "ipython2",
   "version": "2.7.11"
  }
 },
 "nbformat": 4,
 "nbformat_minor": 0
}
