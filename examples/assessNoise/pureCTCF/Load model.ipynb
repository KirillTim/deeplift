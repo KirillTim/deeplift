{
 "cells": [
  {
   "cell_type": "code",
   "execution_count": null,
   "metadata": {
    "collapsed": false
   },
   "outputs": [],
   "source": [
    "%matplotlib inline\n",
    "from __future__ import division;\n",
    "from __future__ import print_function;\n",
    "from __future__ import absolute_import;\n",
    "import sys, os;\n",
    "from collections import OrderedDict, namedtuple;\n",
    "import numpy as np;\n",
    "\n",
    "#import deepLIFT stuff\n",
    "scriptsDir = os.environ.get(\"DEEPLIFT_DIR\");\n",
    "if (scriptsDir is None):\n",
    "    raise Exception(\"Please set environment variable DEEPLIFT_DIR to point to the deeplift code (WITHIN the deeplift repo)\");\n",
    "sys.path.insert(0,scriptsDir);\n",
    "#Make sure the directory is set to import the lab's version of keras\n",
    "scriptsDir = os.environ.get(\"KERAS_DIR\");\n",
    "if (scriptsDir is None):\n",
    "    raise Exception(\"Please set environment variable KERAS_DIR\");\n",
    "sys.path.insert(0,scriptsDir)\n",
    "\n",
    "import keras_conversion as kc"
   ]
  },
  {
   "cell_type": "code",
   "execution_count": null,
   "metadata": {
    "collapsed": false
   },
   "outputs": [],
   "source": [
    "model_weights = \"record_9_model_guiTJ_modelWeights.h5\"\n",
    "model_yaml = \"record_9_model_guiTJ_modelYaml.yaml\"\n",
    "reload(kc)\n",
    "keras_model = kc.load_keras_model(model_weights, model_yaml, normalise_conv_for_one_hot_encoded_input=True)"
   ]
  },
  {
   "cell_type": "code",
   "execution_count": null,
   "metadata": {
    "collapsed": false
   },
   "outputs": [],
   "source": [
    "scriptsDir = os.environ.get(\"UTIL_SCRIPTS_DIR\");\n",
    "if (scriptsDir is None):\n",
    "    raise Exception(\"Please set environment variable UTIL_SCRIPTS_DIR to point to the deeplift code\");\n",
    "sys.path.insert(0,scriptsDir);\n",
    "from importDataPackage import importData\n",
    "reload(importData)\n",
    "trainData, validData, testData = importData.loadTrainTestValidFromYaml(\"yaml/features.yaml\",\"yaml/labels.yaml\", \"yaml/splits.yaml\")"
   ]
  },
  {
   "cell_type": "code",
   "execution_count": null,
   "metadata": {
    "collapsed": true
   },
   "outputs": [],
   "source": [
    "data = testData"
   ]
  },
  {
   "cell_type": "code",
   "execution_count": null,
   "metadata": {
    "collapsed": false
   },
   "outputs": [],
   "source": [
    "import blobs\n",
    "reload(blobs)\n",
    "from blobs import MxtsMode\n",
    "reload(kc)\n",
    "import models\n",
    "reload(models)"
   ]
  },
  {
   "cell_type": "code",
   "execution_count": null,
   "metadata": {
    "collapsed": false,
    "scrolled": false
   },
   "outputs": [],
   "source": [
    "deeplift_model = kc.convert_sequential_model(keras_model, mxts_mode=MxtsMode.DeepLIFT)\n",
    "deeplift_contribs_func = deeplift_model.get_target_contribs_func(find_scores_layer_idx=0)\n",
    "deeplift_multipliers_func = deeplift_model.get_target_multipliers_func(find_scores_layer_idx=0)"
   ]
  },
  {
   "cell_type": "code",
   "execution_count": null,
   "metadata": {
    "collapsed": true
   },
   "outputs": [],
   "source": [
    "gradients_model = kc.convert_sequential_model(keras_model, mxts_mode=MxtsMode.Gradient)\n",
    "grad_times_inp_func = gradients_model.get_target_contribs_func(find_scores_layer_idx=0)\n",
    "guided_backprop_model = kc.convert_sequential_model(keras_model, mxts_mode=MxtsMode.GuidedBackprop)\n",
    "guided_backprop_func = guided_backprop_model.get_target_contribs_func(find_scores_layer_idx=0)\n",
    "deconv_model = kc.convert_sequential_model(keras_model, mxts_mode=MxtsMode.DeconvNet)\n",
    "deconv_func = deconv_model.get_target_contribs_func(find_scores_layer_idx=0)"
   ]
  },
  {
   "cell_type": "code",
   "execution_count": null,
   "metadata": {
    "collapsed": true
   },
   "outputs": [],
   "source": [
    "guided_backprop_deeplift1_model = kc.convert_sequential_model(keras_model, mxts_mode=MxtsMode.GuidedBackpropDeepLIFT1)\n",
    "guided_backprop_deeplift1_func = guided_backprop_deeplift1_model.get_target_contribs_func(find_scores_layer_idx=0)"
   ]
  },
  {
   "cell_type": "code",
   "execution_count": null,
   "metadata": {
    "collapsed": false
   },
   "outputs": [],
   "source": [
    "guided_backprop_deeplift2_model = kc.convert_sequential_model(keras_model, mxts_mode=MxtsMode.GuidedBackpropDeepLIFT2)\n",
    "guided_backprop_deeplift2_func = guided_backprop_deeplift2_model.get_target_contribs_func(find_scores_layer_idx=0)"
   ]
  },
  {
   "cell_type": "code",
   "execution_count": null,
   "metadata": {
    "collapsed": false
   },
   "outputs": [],
   "source": [
    "guided_backprop_deeplift3_model = kc.convert_sequential_model(keras_model, mxts_mode=MxtsMode.GuidedBackpropDeepLIFT3)\n",
    "guided_backprop_deeplift3_func = guided_backprop_deeplift3_model.get_target_contribs_func(find_scores_layer_idx=0)"
   ]
  },
  {
   "cell_type": "code",
   "execution_count": null,
   "metadata": {
    "collapsed": false
   },
   "outputs": [],
   "source": [
    "expo_upweight_toplayers1_model = kc.convert_sequential_model(keras_model, mxts_mode=MxtsMode.ExpoUpweightTopLayers1)\n",
    "expo_upweight_toplayers1_func = expo_upweight_toplayers1_model.get_target_contribs_func(find_scores_layer_idx=0)"
   ]
  },
  {
   "cell_type": "code",
   "execution_count": null,
   "metadata": {
    "collapsed": true
   },
   "outputs": [],
   "source": [
    "expo_upweight_toplayers2_model = kc.convert_sequential_model(keras_model, mxts_mode=MxtsMode.ExpoUpweightTopLayers2)\n",
    "expo_upweight_toplayers2_func = expo_upweight_toplayers2_model.get_target_contribs_func(find_scores_layer_idx=0)"
   ]
  },
  {
   "cell_type": "code",
   "execution_count": null,
   "metadata": {
    "collapsed": false
   },
   "outputs": [],
   "source": [
    "guided_backprop_deeplift5_model = kc.convert_sequential_model(keras_model, mxts_mode=MxtsMode.GuidedBackpropDeepLIFT5)\n",
    "guided_backprop_deeplift5_func = guided_backprop_deeplift5_model.get_target_contribs_func(find_scores_layer_idx=0)"
   ]
  },
  {
   "cell_type": "code",
   "execution_count": null,
   "metadata": {
    "collapsed": false
   },
   "outputs": [],
   "source": [
    "deeplift_contribs,\\\n",
    "deeplift_multipliers,\\\n",
    "grad_times_inp,\\\n",
    "guided_backprop,\\\n",
    "guided_backprop_deeplift1,\\\n",
    "guided_backprop_deeplift2,\\\n",
    "guided_backprop_deeplift3,\\\n",
    "expo_upweight_toplayers1,\\\n",
    "expo_upweight_toplayers2,\\\n",
    "guided_backprop_deeplift5,\\\n",
    "deconv = [np.array(contribs_func(task_idx=0, input_data_list=[data.X] , batch_size=10, progress_update=None))\n",
    "                  for contribs_func in [deeplift_contribs_func,\n",
    "                                        deeplift_multipliers_func,\n",
    "                                        grad_times_inp_func,\n",
    "                                        guided_backprop_func,\n",
    "                                        guided_backprop_deeplift1_func,\n",
    "                                        guided_backprop_deeplift2_func,\n",
    "                                        guided_backprop_deeplift3_func,\n",
    "                                        expo_upweight_toplayers1_func,\n",
    "                                        expo_upweight_toplayers2_func,\n",
    "                                        guided_backprop_deeplift5_func,\n",
    "                                        deconv_func]]"
   ]
  },
  {
   "cell_type": "code",
   "execution_count": null,
   "metadata": {
    "collapsed": true
   },
   "outputs": [],
   "source": [
    "scriptsDir = os.environ.get(\"ENHANCER_SCRIPTS_DIR\");\n",
    "if (scriptsDir is None):\n",
    "    raise Exception(\"Please set environment variable ENHANCER_SCRIPTS_DIR to point to the enhancer_prediction_code repo\");\n",
    "sys.path.insert(0,scriptsDir+\"/featureSelector/deepLIFFT\");\n",
    "from deepLIFTutils import makePngOfSequenceDeepLIFTScores, plotWeights"
   ]
  },
  {
   "cell_type": "code",
   "execution_count": null,
   "metadata": {
    "collapsed": false
   },
   "outputs": [],
   "source": [
    "for (scores, scores_name) in [\n",
    "            (grad_times_inp, 'grad_times_inp'),\n",
    "            (guided_backprop, 'guided_backprop'),\n",
    "            (deeplift_contribs, 'deeplift_contribs'),\n",
    "            #(deeplift_multipliers, 'deeplift_multipliers'),                                  \n",
    "            (guided_backprop_deeplift1, 'guided_backprop_deeplift1'),\n",
    "            (guided_backprop_deeplift4, 'guided_backprop_deeplift4'),\n",
    "            (guided_backprop_deeplift5, 'guided_backprop_deeplift5')]:\n",
    "    print(scores_name)\n",
    "    plotWeights(scores[4][0].T, bias=0, title=\"\", figSize=(100,4), outputFile=None)"
   ]
  },
  {
   "cell_type": "code",
   "execution_count": null,
   "metadata": {
    "collapsed": false
   },
   "outputs": [],
   "source": [
    "deeplift_contribs.shape"
   ]
  },
  {
   "cell_type": "code",
   "execution_count": null,
   "metadata": {
    "collapsed": false
   },
   "outputs": [],
   "source": [
    "np.max(np.sqrt(np.abs(guided_backprop_deeplift4))*np.sign(guided_backprop_deeplift4))"
   ]
  },
  {
   "cell_type": "code",
   "execution_count": null,
   "metadata": {
    "collapsed": false
   },
   "outputs": [],
   "source": [
    "np.max(guided_backprop_deeplift4)"
   ]
  },
  {
   "cell_type": "code",
   "execution_count": null,
   "metadata": {
    "collapsed": false
   },
   "outputs": [],
   "source": [
    "np.max(deeplift_contribs)"
   ]
  },
  {
   "cell_type": "code",
   "execution_count": null,
   "metadata": {
    "collapsed": true
   },
   "outputs": [],
   "source": []
  }
 ],
 "metadata": {
  "kernelspec": {
   "display_name": "Python 2",
   "language": "python",
   "name": "python2"
  },
  "language_info": {
   "codemirror_mode": {
    "name": "ipython",
    "version": 2
   },
   "file_extension": ".py",
   "mimetype": "text/x-python",
   "name": "python",
   "nbconvert_exporter": "python",
   "pygments_lexer": "ipython2",
   "version": "2.7.11"
  }
 },
 "nbformat": 4,
 "nbformat_minor": 0
}
