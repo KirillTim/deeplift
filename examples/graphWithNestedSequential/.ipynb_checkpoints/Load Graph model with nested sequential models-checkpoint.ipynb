{
 "cells": [
  {
   "cell_type": "code",
   "execution_count": 1,
   "metadata": {
    "collapsed": false
   },
   "outputs": [
    {
     "name": "stderr",
     "output_type": "stream",
     "text": [
      "Using gpu device 0: GeForce GT 750M (CNMeM is disabled, CuDNN not available)\n",
      "/Users/avantishrikumar/anaconda/lib/python2.7/site-packages/theano/tensor/signal/downsample.py:5: UserWarning: downsample module has been moved to the pool module.\n",
      "  warnings.warn(\"downsample module has been moved to the pool module.\")\n"
     ]
    }
   ],
   "source": [
    "%matplotlib inline\n",
    "from __future__ import division;\n",
    "from __future__ import print_function;\n",
    "from __future__ import absolute_import;\n",
    "import sys, os;\n",
    "from collections import OrderedDict, namedtuple;\n",
    "import numpy as np;\n",
    "\n",
    "#import deepLIFT stuff\n",
    "scriptsDir = os.environ.get(\"DEEPLIFT_DIR\");\n",
    "if (scriptsDir is None):\n",
    "    raise Exception(\"Please set environment variable DEEPLIFT_DIR to point to the deeplift code (WITHIN the deeplift repo)\");\n",
    "sys.path.insert(0,scriptsDir);\n",
    "#Make sure the directory is set to import the lab's version of keras\n",
    "scriptsDir = os.environ.get(\"KERAS_DIR\");\n",
    "if (scriptsDir is None):\n",
    "    raise Exception(\"Please set environment variable KERAS_DIR\");\n",
    "sys.path.insert(0,scriptsDir)\n",
    "\n",
    "import keras_conversion as kc\n",
    "import theano\n",
    "import models\n",
    "from blobs import MxtsMode\n",
    "import deeplift_util"
   ]
  },
  {
   "cell_type": "code",
   "execution_count": 2,
   "metadata": {
    "collapsed": false
   },
   "outputs": [
    {
     "name": "stdout",
     "output_type": "stream",
     "text": [
      "Warning: I (Av/Anna) haven't yet put in the logic for loading the taskweightedCrossentropyLoss loss from a yaml file.so I am going to replace it with a 'binary_crossentropy' which should be fine as long as you are not planning to fine-tune this model further. If you are planning to fine tune it further then I think you need to call model_from_config with your the weighted_binary_crossentropy loss function put in as an entry for custom_objects\n"
     ]
    },
    {
     "name": "stderr",
     "output_type": "stream",
     "text": [
      "Using Theano backend.\n"
     ]
    }
   ],
   "source": [
    "reload(kc)\n",
    "model_weights  = \"model_ctOqX_modelWeights.h5\"\n",
    "model_yaml = \"model_ctOqX_modelYaml.yaml\"\n",
    "keras_model = kc.load_keras_model(model_weights, model_yaml)\n",
    "kc.mean_normalise_columns_in_conv_layer(keras_model.nodes[\"sequentialCore\"].layers[0],\n",
    "                                        normalise_across_rows=True)"
   ]
  },
  {
   "cell_type": "code",
   "execution_count": 3,
   "metadata": {
    "collapsed": false
   },
   "outputs": [
    {
     "data": {
      "text/plain": [
       "OrderedDict([('sequentialCore',\n",
       "              <keras.layers.containers.Sequential at 0x11ef1bf90>),\n",
       "             ('preOutput-3hr',\n",
       "              <keras.layers.containers.Sequential at 0x11f16ded0>),\n",
       "             ('preOutput-16hr',\n",
       "              <keras.layers.containers.Sequential at 0x11f170d10>),\n",
       "             ('preOutput-48hr',\n",
       "              <keras.layers.containers.Sequential at 0x11f1000d0>),\n",
       "             ('preOutput-3hr.binary',\n",
       "              <keras.layers.containers.Sequential at 0x11f100450>)])"
      ]
     },
     "execution_count": 3,
     "metadata": {},
     "output_type": "execute_result"
    }
   ],
   "source": [
    "keras_model.nodes"
   ]
  },
  {
   "cell_type": "code",
   "execution_count": 6,
   "metadata": {
    "collapsed": false
   },
   "outputs": [
    {
     "data": {
      "text/plain": [
       "<keras.layers.containers.Sequential at 0x11ef1bf90>"
      ]
     },
     "execution_count": 6,
     "metadata": {},
     "output_type": "execute_result"
    }
   ],
   "source": [
    "keras_model.nodes['preOutput-3hr.binary'].layers[0].previous"
   ]
  },
  {
   "cell_type": "code",
   "execution_count": 26,
   "metadata": {
    "collapsed": false
   },
   "outputs": [
    {
     "data": {
      "text/plain": [
       "(1, 4, 800)"
      ]
     },
     "execution_count": 26,
     "metadata": {},
     "output_type": "execute_result"
    }
   ],
   "source": [
    "keras_model.inputs['inputMode1'].get_config()['input_shape']"
   ]
  },
  {
   "cell_type": "code",
   "execution_count": 28,
   "metadata": {
    "collapsed": false,
    "scrolled": false
   },
   "outputs": [],
   "source": [
    "import keras_conversion as kc\n",
    "import models\n",
    "reload(models)\n",
    "reload(kc)\n",
    "import blobs\n",
    "reload(blobs)\n",
    "from blobs import MxtsMode\n",
    "deeplift_model = kc.convert_graph_model(keras_model, mxts_mode=MxtsMode.Gradient)"
   ]
  },
  {
   "cell_type": "code",
   "execution_count": 43,
   "metadata": {
    "collapsed": false
   },
   "outputs": [
    {
     "name": "stdout",
     "output_type": "stream",
     "text": [
      "1080\n",
      "(1080, 10)\n"
     ]
    }
   ],
   "source": [
    "print(deeplift_model.get_name_to_blob()['sequentialCore-5']._shape)\n",
    "print(keras_model.nodes['sequentialCore'].layers[6].get_weights()[0].shape)"
   ]
  },
  {
   "cell_type": "code",
   "execution_count": 40,
   "metadata": {
    "collapsed": false
   },
   "outputs": [
    {
     "data": {
      "text/plain": [
       "OrderedDict([('inputMode1', <blobs.Input_FixedDefault at 0x126876e50>),\n",
       "             ('sequentialCore-0', <blobs.Conv2D at 0x126763a10>),\n",
       "             ('sequentialCore-1', <blobs.BatchNormalization at 0x1266e8490>),\n",
       "             ('sequentialCore-2', <blobs.ReLU at 0x1266e84d0>),\n",
       "             ('sequentialCore-3', <blobs.NoOp at 0x126811650>),\n",
       "             ('sequentialCore-4', <blobs.Pool2D at 0x126811550>),\n",
       "             ('sequentialCore-5', <blobs.Flatten at 0x1268402d0>),\n",
       "             ('sequentialCore-6', <blobs.Dense at 0x126840c10>),\n",
       "             ('sequentialCore-7', <blobs.ReLU at 0x12674a0d0>),\n",
       "             ('preOutput-3hr-0', <blobs.Dense at 0x1267da310>),\n",
       "             ('preOutput-3hr-1', <blobs.Softmax at 0x1267da290>),\n",
       "             ('preOutput-16hr-0', <blobs.Dense at 0x1267dab90>),\n",
       "             ('preOutput-16hr-1', <blobs.Softmax at 0x12677f090>),\n",
       "             ('preOutput-48hr-0', <blobs.Dense at 0x12677f110>),\n",
       "             ('preOutput-48hr-1', <blobs.Softmax at 0x12677f210>),\n",
       "             ('preOutput-3hr.binary-0', <blobs.Dense at 0x1267d7f10>),\n",
       "             ('preOutput-3hr.binary-1', <blobs.Sigmoid at 0x1267d7450>)])"
      ]
     },
     "execution_count": 40,
     "metadata": {},
     "output_type": "execute_result"
    }
   ],
   "source": [
    "deeplift_model.get_name_to_blob()"
   ]
  },
  {
   "cell_type": "code",
   "execution_count": null,
   "metadata": {
    "collapsed": true
   },
   "outputs": [],
   "source": []
  }
 ],
 "metadata": {
  "kernelspec": {
   "display_name": "Python 2",
   "language": "python",
   "name": "python2"
  },
  "language_info": {
   "codemirror_mode": {
    "name": "ipython",
    "version": 2
   },
   "file_extension": ".py",
   "mimetype": "text/x-python",
   "name": "python",
   "nbconvert_exporter": "python",
   "pygments_lexer": "ipython2",
   "version": "2.7.11"
  }
 },
 "nbformat": 4,
 "nbformat_minor": 0
}
