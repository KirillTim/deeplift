{
 "cells": [
  {
   "cell_type": "code",
   "execution_count": 1,
   "metadata": {
    "collapsed": false
   },
   "outputs": [
    {
     "name": "stderr",
     "output_type": "stream",
     "text": [
      "Using gpu device 0: GeForce GT 750M (CNMeM is disabled, CuDNN not available)\n",
      "/Users/avantishrikumar/anaconda/lib/python2.7/site-packages/theano/tensor/signal/downsample.py:5: UserWarning: downsample module has been moved to the pool module.\n",
      "  warnings.warn(\"downsample module has been moved to the pool module.\")\n"
     ]
    }
   ],
   "source": [
    "import theano\n",
    "from theano import tensor as T"
   ]
  },
  {
   "cell_type": "code",
   "execution_count": 51,
   "metadata": {
    "collapsed": true
   },
   "outputs": [],
   "source": [
    "import backend as B\n",
    "import numpy as np"
   ]
  },
  {
   "cell_type": "code",
   "execution_count": 93,
   "metadata": {
    "collapsed": false
   },
   "outputs": [],
   "source": [
    "reload(B)\n",
    "filters = np.array(\n",
    "    [[\n",
    "        [[1,2,3]],\n",
    "        \n",
    "        [[4,5,6]]\n",
    "    ]]\n",
    ",dtype='float')\n",
    "\n",
    "inp = np.array([[\n",
    "    [[1,2,3]\n",
    "    ,[4,5,6]]\n",
    "    \n",
    "    ,[[7,8,9]\n",
    "    ,[10,11,12]]\n",
    "]],dtype='float')\n",
    "\n",
    "x = T.tensor4(name='hi')\n",
    "y = B.conv2d(x, filters=filters, border_mode='valid', subsample=(1,1))"
   ]
  },
  {
   "cell_type": "code",
   "execution_count": 94,
   "metadata": {
    "collapsed": false
   },
   "outputs": [],
   "source": [
    "func = theano.function([x], y)"
   ]
  },
  {
   "cell_type": "code",
   "execution_count": 95,
   "metadata": {
    "collapsed": false
   },
   "outputs": [
    {
     "data": {
      "text/plain": [
       "array([[[[ 128.],\n",
       "         [ 191.]]]])"
      ]
     },
     "execution_count": 95,
     "metadata": {},
     "output_type": "execute_result"
    }
   ],
   "source": [
    "func(inp)"
   ]
  },
  {
   "cell_type": "code",
   "execution_count": 75,
   "metadata": {
    "collapsed": false
   },
   "outputs": [],
   "source": [
    "reload(B)\n",
    "convoutvar = T.tensor4()\n",
    "out = B.conv2d_grad(convoutvar, filters, border_mode='valid', subsample=(1,1))"
   ]
  },
  {
   "cell_type": "code",
   "execution_count": 76,
   "metadata": {
    "collapsed": false
   },
   "outputs": [],
   "source": [
    "invfunc = theano.function([convoutvar], out)"
   ]
  },
  {
   "cell_type": "code",
   "execution_count": 80,
   "metadata": {
    "collapsed": false
   },
   "outputs": [
    {
     "data": {
      "text/plain": [
       "array([[[[ 3.,  2.,  1.],\n",
       "         [ 3.,  2.,  1.]],\n",
       "\n",
       "        [[ 6.,  5.,  4.],\n",
       "         [ 6.,  5.,  4.]]]])"
      ]
     },
     "execution_count": 80,
     "metadata": {},
     "output_type": "execute_result"
    }
   ],
   "source": [
    "invfunc([[[[ 1.],\n",
    "         [ 1.]]]])"
   ]
  },
  {
   "cell_type": "code",
   "execution_count": null,
   "metadata": {
    "collapsed": true
   },
   "outputs": [],
   "source": [
    "invfunc(np.array([[[[1, 1]]]]), np.array([[\n",
    "    [[1,1,1],[1,1,1]]\n",
    "    ,[[1,1,1],[1,1,1]]\n",
    "]],dtype='float'))"
   ]
  }
 ],
 "metadata": {
  "kernelspec": {
   "display_name": "Python 2",
   "language": "python",
   "name": "python2"
  },
  "language_info": {
   "codemirror_mode": {
    "name": "ipython",
    "version": 2
   },
   "file_extension": ".py",
   "mimetype": "text/x-python",
   "name": "python",
   "nbconvert_exporter": "python",
   "pygments_lexer": "ipython2",
   "version": "2.7.11"
  }
 },
 "nbformat": 4,
 "nbformat_minor": 0
}
